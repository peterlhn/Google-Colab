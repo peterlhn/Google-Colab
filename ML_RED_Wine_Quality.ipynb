{
  "nbformat": 4,
  "nbformat_minor": 0,
  "metadata": {
    "colab": {
      "name": "ML - RED Wine Quality.ipynb",
      "provenance": [],
      "authorship_tag": "ABX9TyP9F/DXYuinNIxvWUVSe2j/",
      "include_colab_link": true
    },
    "kernelspec": {
      "name": "python3",
      "display_name": "Python 3"
    },
    "language_info": {
      "name": "python"
    }
  },
  "cells": [
    {
      "cell_type": "markdown",
      "metadata": {
        "id": "view-in-github",
        "colab_type": "text"
      },
      "source": [
        "<a href=\"https://colab.research.google.com/github/peterlhn/Google-Colab/blob/master/ML_RED_Wine_Quality.ipynb\" target=\"_parent\"><img src=\"https://colab.research.google.com/assets/colab-badge.svg\" alt=\"Open In Colab\"/></a>"
      ]
    },
    {
      "cell_type": "markdown",
      "metadata": {
        "id": "SBsfZw2WBj7P"
      },
      "source": [
        "#**Predicting Wine Quality with Several Classification Techniques**"
      ]
    },
    {
      "cell_type": "code",
      "metadata": {
        "id": "3ZVqyJfAhmZe"
      },
      "source": [
        "import numpy as np\n",
        "import pandas as pd\n",
        "import matplotlib as plt\n",
        "import seaborn as sns\n",
        "import plotly.express as px"
      ],
      "execution_count": null,
      "outputs": []
    },
    {
      "cell_type": "markdown",
      "metadata": {
        "id": "PthnC3qshaHB"
      },
      "source": [
        "[Kaggle Dataset - Red Wine Quality\n",
        "](https://www.kaggle.com/uciml/red-wine-quality-cortez-et-al-2009)\n",
        "\n",
        "[Predicting Wine Quality with Several Classification Techniques](https://towardsdatascience.com/predicting-wine-quality-with-several-classification-techniques-179038ea6434#ad59)"
      ]
    },
    {
      "cell_type": "markdown",
      "metadata": {
        "id": "NTBItPSMhrnZ"
      },
      "source": [
        "##**Introduction**\n",
        "As the quarantine continues, I’ve picked up a number of hobbies and interests… including WINE. Recently, I’ve acquired a taste for wines, although I don’t really know what makes a good wine. Therefore, I decided to apply some machine learning models to figure out what makes a good quality wine!\n",
        "\n",
        "For this project, I used Kaggle’s Red Wine Quality dataset to build various classification models to predict whether a particular red wine is “good quality” or not. Each wine in this dataset is given a “quality” score between 0 and 10. For the purpose of this project, I converted the output to a binary output where each wine is either “good quality” (a score of 7 or higher) or not (a score below 7). The quality of a wine is determined by 11 input variables:\n",
        "\n",
        "**Objectives**\n",
        "\n",
        "The objectives of this project are as follows\n",
        "\n",
        "1.   To experiment with different classification methods to see which yields the highest accuracy\n",
        "2.   To determine which features are the most indicative of a good quality wine\n"
      ]
    },
    {
      "cell_type": "markdown",
      "metadata": {
        "id": "58M9xffmjJyw"
      },
      "source": [
        "##**Understanding the Dataset**"
      ]
    },
    {
      "cell_type": "code",
      "metadata": {
        "colab": {
          "base_uri": "https://localhost:8080/"
        },
        "id": "k2hHZxcnhWAN",
        "outputId": "9161c6bd-ef73-43fe-bf15-39a66f2b8b4f"
      },
      "source": [
        "url = 'https://storage.googleapis.com/ppp-personal-project/Machine-Learning-Dataset-and-Code/Wine_Quality/winequality-red.csv'\n",
        "\n",
        "df = pd.read_csv(url)\n",
        "\n",
        "# See the number of rows and columns\n",
        "print(\"Rows, columns: \" + str(df.shape))\n",
        "print(\"------------------------------\")\n",
        "# See the first five rows of the dataset\n",
        "print(df.head())"
      ],
      "execution_count": null,
      "outputs": [
        {
          "output_type": "stream",
          "text": [
            "Rows, columns: (1599, 12)\n",
            "------------------------------\n",
            "   fixed acidity  volatile acidity  citric acid  ...  sulphates  alcohol  quality\n",
            "0            7.4              0.70         0.00  ...       0.56      9.4        5\n",
            "1            7.8              0.88         0.00  ...       0.68      9.8        5\n",
            "2            7.8              0.76         0.04  ...       0.65      9.8        5\n",
            "3           11.2              0.28         0.56  ...       0.58      9.8        6\n",
            "4            7.4              0.70         0.00  ...       0.56      9.4        5\n",
            "\n",
            "[5 rows x 12 columns]\n"
          ],
          "name": "stdout"
        }
      ]
    },
    {
      "cell_type": "markdown",
      "metadata": {
        "id": "jcv6cECSjZIS"
      },
      "source": [
        "**Missing Value**"
      ]
    },
    {
      "cell_type": "code",
      "metadata": {
        "colab": {
          "base_uri": "https://localhost:8080/"
        },
        "id": "-QquNdMtjXh2",
        "outputId": "6f69bfa3-4051-48bf-e61d-04d05508c0a5"
      },
      "source": [
        "# Missing Values\n",
        "print(df.isna().sum())"
      ],
      "execution_count": null,
      "outputs": [
        {
          "output_type": "stream",
          "text": [
            "fixed acidity           0\n",
            "volatile acidity        0\n",
            "citric acid             0\n",
            "residual sugar          0\n",
            "chlorides               0\n",
            "free sulfur dioxide     0\n",
            "total sulfur dioxide    0\n",
            "density                 0\n",
            "pH                      0\n",
            "sulphates               0\n",
            "alcohol                 0\n",
            "quality                 0\n",
            "dtype: int64\n"
          ],
          "name": "stdout"
        }
      ]
    },
    {
      "cell_type": "markdown",
      "metadata": {
        "id": "qtR2jrqTj7pR"
      },
      "source": [
        "##**Exploring Variables**\n"
      ]
    },
    {
      "cell_type": "markdown",
      "metadata": {
        "id": "QaUGIfR4kDVr"
      },
      "source": [
        "**Histogram of ‘quality’ variable**\n",
        "\n",
        "First, I wanted to see the distribution of the quality variable. I wanted to make sure that I had enough ‘good quality’ wines in my dataset — you’ll see later how I defined ‘good quality’."
      ]
    },
    {
      "cell_type": "code",
      "metadata": {
        "colab": {
          "base_uri": "https://localhost:8080/",
          "height": 542
        },
        "id": "_y5-qaX3kBsd",
        "outputId": "e30d5fe8-1bb0-473c-a14f-dce142743586"
      },
      "source": [
        "fig = px.histogram(df,x='quality')\n",
        "fig.show()"
      ],
      "execution_count": null,
      "outputs": [
        {
          "output_type": "display_data",
          "data": {
            "text/html": [
              "<html>\n",
              "<head><meta charset=\"utf-8\" /></head>\n",
              "<body>\n",
              "    <div>\n",
              "            <script src=\"https://cdnjs.cloudflare.com/ajax/libs/mathjax/2.7.5/MathJax.js?config=TeX-AMS-MML_SVG\"></script><script type=\"text/javascript\">if (window.MathJax) {MathJax.Hub.Config({SVG: {font: \"STIX-Web\"}});}</script>\n",
              "                <script type=\"text/javascript\">window.PlotlyConfig = {MathJaxConfig: 'local'};</script>\n",
              "        <script src=\"https://cdn.plot.ly/plotly-latest.min.js\"></script>    \n",
              "            <div id=\"60c4d8d7-ea08-4242-9e40-753b6ad7ee19\" class=\"plotly-graph-div\" style=\"height:525px; width:100%;\"></div>\n",
              "            <script type=\"text/javascript\">\n",
              "                \n",
              "                    window.PLOTLYENV=window.PLOTLYENV || {};\n",
              "                    \n",
              "                if (document.getElementById(\"60c4d8d7-ea08-4242-9e40-753b6ad7ee19\")) {\n",
              "                    Plotly.newPlot(\n",
              "                        '60c4d8d7-ea08-4242-9e40-753b6ad7ee19',\n",
              "                        [{\"alignmentgroup\": \"True\", \"bingroup\": \"x\", \"hoverlabel\": {\"namelength\": 0}, \"hovertemplate\": \"quality=%{x}<br>count=%{y}\", \"legendgroup\": \"\", \"marker\": {\"color\": \"#636efa\"}, \"name\": \"\", \"offsetgroup\": \"\", \"orientation\": \"v\", \"showlegend\": false, \"type\": \"histogram\", \"x\": [5, 5, 5, 6, 5, 5, 5, 7, 7, 5, 5, 5, 5, 5, 5, 5, 7, 5, 4, 6, 6, 5, 5, 5, 6, 5, 5, 5, 5, 6, 5, 6, 5, 6, 5, 6, 6, 7, 4, 5, 5, 4, 6, 5, 5, 4, 5, 5, 5, 5, 5, 6, 6, 5, 6, 5, 5, 5, 5, 6, 5, 5, 7, 5, 5, 5, 5, 5, 5, 6, 6, 5, 5, 4, 5, 5, 5, 6, 5, 4, 5, 5, 5, 5, 6, 5, 6, 5, 5, 5, 5, 6, 5, 5, 4, 6, 5, 5, 5, 6, 6, 6, 6, 5, 5, 5, 5, 5, 6, 5, 5, 5, 5, 6, 5, 6, 6, 6, 6, 6, 5, 6, 5, 5, 5, 5, 5, 5, 7, 5, 5, 5, 5, 6, 6, 5, 5, 5, 5, 5, 5, 5, 6, 5, 6, 5, 5, 5, 6, 6, 6, 4, 5, 5, 5, 5, 5, 5, 5, 6, 5, 4, 6, 5, 5, 5, 5, 4, 6, 5, 4, 6, 6, 6, 5, 5, 5, 6, 5, 5, 5, 5, 5, 5, 6, 5, 5, 5, 5, 5, 5, 6, 5, 5, 5, 5, 5, 6, 7, 4, 7, 5, 5, 5, 6, 7, 7, 5, 5, 7, 6, 6, 6, 5, 6, 5, 5, 5, 5, 5, 6, 5, 5, 6, 4, 6, 6, 5, 6, 5, 7, 6, 6, 5, 6, 6, 6, 6, 6, 6, 5, 6, 6, 7, 7, 6, 5, 5, 6, 6, 6, 6, 5, 5, 6, 5, 5, 5, 5, 7, 5, 4, 5, 5, 5, 7, 4, 8, 6, 6, 6, 6, 5, 5, 5, 6, 6, 6, 8, 7, 6, 7, 5, 7, 5, 5, 6, 6, 7, 5, 7, 5, 6, 6, 6, 5, 5, 5, 5, 5, 6, 6, 5, 5, 5, 6, 5, 6, 6, 6, 6, 6, 6, 5, 5, 6, 5, 6, 7, 6, 7, 5, 5, 6, 6, 6, 7, 5, 6, 5, 6, 6, 6, 5, 7, 7, 6, 5, 6, 7, 6, 6, 6, 6, 6, 5, 7, 6, 6, 6, 6, 6, 5, 5, 6, 6, 5, 7, 7, 6, 5, 6, 5, 5, 7, 6, 7, 5, 5, 7, 5, 6, 6, 5, 6, 7, 6, 7, 6, 6, 6, 6, 6, 6, 5, 6, 6, 6, 6, 7, 8, 6, 5, 5, 5, 7, 5, 6, 6, 5, 5, 6, 6, 6, 5, 6, 6, 7, 6, 4, 6, 5, 5, 7, 5, 5, 6, 5, 6, 5, 7, 7, 5, 7, 5, 7, 6, 6, 5, 6, 7, 5, 6, 5, 6, 5, 6, 6, 6, 5, 8, 6, 7, 7, 7, 6, 5, 5, 6, 6, 6, 6, 6, 7, 5, 8, 5, 5, 7, 3, 6, 5, 5, 5, 6, 5, 6, 6, 6, 5, 5, 6, 6, 5, 6, 5, 5, 6, 5, 6, 5, 8, 5, 5, 6, 5, 5, 6, 7, 6, 6, 7, 7, 6, 6, 8, 6, 5, 8, 6, 6, 7, 7, 7, 7, 7, 7, 6, 6, 7, 5, 6, 6, 7, 7, 5, 6, 3, 6, 5, 6, 5, 5, 5, 5, 5, 5, 6, 6, 5, 6, 5, 5, 6, 6, 6, 5, 6, 7, 5, 5, 6, 5, 6, 6, 5, 6, 6, 6, 6, 6, 6, 6, 5, 5, 5, 6, 5, 6, 6, 5, 5, 5, 6, 6, 5, 6, 6, 6, 6, 6, 6, 5, 4, 6, 6, 4, 5, 5, 6, 5, 5, 5, 7, 7, 6, 7, 5, 8, 7, 5, 6, 5, 5, 5, 5, 6, 6, 6, 6, 4, 6, 5, 6, 6, 6, 7, 6, 6, 6, 5, 5, 6, 5, 6, 5, 5, 6, 5, 5, 5, 5, 5, 6, 5, 5, 5, 5, 6, 5, 6, 5, 6, 4, 5, 5, 5, 5, 7, 6, 5, 5, 5, 5, 5, 7, 5, 4, 7, 6, 5, 5, 5, 6, 5, 5, 5, 7, 6, 4, 6, 5, 6, 6, 5, 5, 6, 6, 5, 6, 5, 5, 5, 5, 6, 5, 6, 5, 5, 5, 5, 6, 5, 5, 5, 5, 5, 5, 5, 5, 3, 5, 5, 5, 5, 6, 6, 6, 5, 6, 6, 6, 6, 4, 4, 5, 5, 5, 6, 6, 5, 5, 5, 5, 5, 6, 5, 5, 5, 5, 5, 5, 5, 5, 4, 5, 6, 5, 5, 6, 5, 5, 5, 5, 5, 5, 5, 6, 5, 5, 6, 5, 5, 5, 5, 6, 6, 5, 6, 6, 5, 5, 5, 5, 6, 6, 6, 5, 5, 5, 5, 5, 6, 5, 6, 6, 5, 5, 6, 5, 6, 5, 5, 6, 6, 5, 6, 6, 5, 5, 6, 5, 5, 5, 5, 5, 5, 6, 6, 5, 6, 5, 6, 5, 6, 5, 5, 7, 6, 6, 5, 5, 7, 6, 6, 7, 7, 7, 5, 6, 5, 6, 5, 4, 6, 5, 6, 6, 5, 5, 5, 7, 5, 5, 5, 5, 7, 5, 8, 6, 4, 6, 3, 4, 5, 5, 7, 7, 7, 5, 7, 5, 6, 5, 6, 5, 5, 6, 5, 5, 5, 5, 5, 6, 6, 7, 6, 7, 7, 6, 5, 6, 5, 5, 5, 5, 6, 6, 6, 6, 6, 5, 4, 7, 7, 7, 4, 6, 6, 5, 5, 6, 6, 5, 6, 5, 6, 7, 6, 5, 5, 5, 6, 5, 6, 6, 7, 6, 7, 3, 5, 7, 7, 7, 7, 5, 5, 6, 6, 6, 6, 6, 6, 7, 6, 6, 5, 6, 6, 6, 5, 6, 6, 6, 5, 7, 6, 4, 5, 7, 5, 5, 6, 5, 5, 6, 6, 4, 7, 5, 7, 7, 7, 7, 7, 7, 7, 7, 7, 7, 7, 7, 7, 7, 6, 5, 6, 6, 7, 5, 6, 5, 5, 6, 6, 6, 7, 5, 6, 5, 6, 6, 7, 5, 7, 5, 5, 5, 7, 5, 6, 5, 6, 6, 5, 6, 7, 5, 5, 6, 5, 5, 6, 5, 5, 6, 7, 7, 6, 6, 7, 7, 7, 7, 5, 7, 7, 7, 7, 5, 7, 6, 5, 6, 6, 6, 7, 6, 6, 5, 6, 6, 5, 6, 7, 6, 6, 5, 6, 7, 7, 7, 5, 6, 6, 7, 7, 5, 7, 6, 5, 6, 6, 7, 6, 6, 6, 5, 6, 6, 5, 5, 5, 7, 6, 6, 7, 5, 7, 7, 6, 8, 6, 6, 6, 6, 7, 7, 7, 5, 7, 5, 6, 6, 5, 7, 6, 5, 5, 7, 6, 7, 6, 6, 6, 5, 7, 6, 7, 7, 8, 6, 6, 7, 6, 5, 6, 5, 7, 5, 6, 6, 6, 6, 6, 5, 6, 7, 5, 6, 6, 7, 6, 6, 6, 6, 6, 6, 6, 5, 8, 6, 6, 6, 4, 7, 6, 6, 5, 6, 6, 5, 7, 7, 7, 6, 6, 6, 5, 6, 6, 6, 6, 6, 5, 6, 6, 7, 6, 6, 7, 6, 5, 6, 6, 5, 7, 7, 6, 5, 7, 6, 7, 5, 5, 5, 5, 7, 6, 6, 6, 6, 6, 6, 6, 6, 4, 7, 5, 6, 6, 5, 6, 5, 5, 6, 5, 6, 5, 4, 6, 5, 7, 5, 6, 6, 6, 6, 6, 6, 6, 7, 8, 5, 7, 7, 7, 5, 7, 7, 6, 5, 6, 6, 6, 6, 6, 6, 6, 6, 6, 6, 6, 6, 6, 5, 5, 5, 7, 5, 6, 5, 5, 4, 6, 4, 6, 6, 4, 4, 5, 5, 6, 5, 6, 5, 5, 5, 6, 6, 6, 5, 5, 5, 5, 5, 5, 6, 6, 6, 5, 4, 5, 4, 6, 6, 6, 6, 6, 8, 6, 6, 5, 5, 6, 6, 4, 6, 6, 7, 6, 6, 6, 6, 5, 5, 6, 5, 5, 5, 5, 6, 6, 4, 6, 5, 5, 6, 6, 3, 6, 6, 6, 5, 5, 5, 5, 4, 5, 5, 5, 6, 5, 6, 6, 6, 6, 6, 6, 6, 5, 6, 5, 7, 6, 6, 6, 6, 5, 6, 6, 5, 6, 5, 5, 6, 5, 5, 5, 6, 6, 6, 6, 6, 5, 6, 5, 5, 5, 5, 5, 6, 5, 5, 5, 5, 5, 6, 5, 6, 5, 5, 6, 4, 6, 5, 5, 6, 6, 4, 5, 6, 5, 5, 3, 5, 5, 6, 6, 6, 6, 5, 5, 5, 5, 5, 5, 5, 5, 5, 6, 5, 5, 5, 5, 6, 5, 5, 7, 6, 5, 5, 6, 8, 6, 7, 6, 6, 7, 6, 6, 6, 6, 5, 5, 5, 5, 7, 5, 5, 5, 5, 6, 4, 6, 6, 6, 5, 5, 5, 5, 6, 6, 7, 6, 6, 5, 5, 5, 6, 7, 6, 5, 5, 6, 6, 5, 5, 5, 8, 7, 7, 7, 5, 6, 6, 6, 5, 5, 7, 6, 4, 6, 6, 5, 5, 7, 4, 7, 3, 5, 5, 6, 5, 5, 7, 5, 7, 3, 5, 4, 5, 4, 5, 4, 5, 5, 5, 5, 6, 6, 5, 5, 5, 7, 6, 5, 6, 6, 6, 5, 5, 5, 6, 6, 3, 6, 6, 6, 5, 6, 5, 6, 6, 6, 6, 5, 6, 5, 5, 6, 4, 5, 5, 6, 5, 6, 6, 6, 6, 6, 5, 6, 5, 7, 6, 6, 6, 5, 5, 6, 7, 6, 6, 7, 6, 5, 5, 5, 8, 5, 5, 6, 5, 6, 7, 5, 6, 5, 5, 5, 5, 5, 5, 5, 6, 6, 5, 5, 6, 6, 6, 5, 6, 6, 6, 6, 6, 6, 5, 6, 5, 5, 5, 7, 6, 6, 6, 6, 5, 6, 6, 6, 6, 5, 6, 6, 5, 6], \"xaxis\": \"x\", \"yaxis\": \"y\"}],\n",
              "                        {\"barmode\": \"relative\", \"legend\": {\"tracegroupgap\": 0}, \"margin\": {\"t\": 60}, \"template\": {\"data\": {\"bar\": [{\"error_x\": {\"color\": \"#2a3f5f\"}, \"error_y\": {\"color\": \"#2a3f5f\"}, \"marker\": {\"line\": {\"color\": \"#E5ECF6\", \"width\": 0.5}}, \"type\": \"bar\"}], \"barpolar\": [{\"marker\": {\"line\": {\"color\": \"#E5ECF6\", \"width\": 0.5}}, \"type\": \"barpolar\"}], \"carpet\": [{\"aaxis\": {\"endlinecolor\": \"#2a3f5f\", \"gridcolor\": \"white\", \"linecolor\": \"white\", \"minorgridcolor\": \"white\", \"startlinecolor\": \"#2a3f5f\"}, \"baxis\": {\"endlinecolor\": \"#2a3f5f\", \"gridcolor\": \"white\", \"linecolor\": \"white\", \"minorgridcolor\": \"white\", \"startlinecolor\": \"#2a3f5f\"}, \"type\": \"carpet\"}], \"choropleth\": [{\"colorbar\": {\"outlinewidth\": 0, \"ticks\": \"\"}, \"type\": \"choropleth\"}], \"contour\": [{\"colorbar\": {\"outlinewidth\": 0, \"ticks\": \"\"}, \"colorscale\": [[0.0, \"#0d0887\"], [0.1111111111111111, \"#46039f\"], [0.2222222222222222, \"#7201a8\"], [0.3333333333333333, \"#9c179e\"], [0.4444444444444444, \"#bd3786\"], [0.5555555555555556, \"#d8576b\"], [0.6666666666666666, \"#ed7953\"], [0.7777777777777778, \"#fb9f3a\"], [0.8888888888888888, \"#fdca26\"], [1.0, \"#f0f921\"]], \"type\": \"contour\"}], \"contourcarpet\": [{\"colorbar\": {\"outlinewidth\": 0, \"ticks\": \"\"}, \"type\": \"contourcarpet\"}], \"heatmap\": [{\"colorbar\": {\"outlinewidth\": 0, \"ticks\": \"\"}, \"colorscale\": [[0.0, \"#0d0887\"], [0.1111111111111111, \"#46039f\"], [0.2222222222222222, \"#7201a8\"], [0.3333333333333333, \"#9c179e\"], [0.4444444444444444, \"#bd3786\"], [0.5555555555555556, \"#d8576b\"], [0.6666666666666666, \"#ed7953\"], [0.7777777777777778, \"#fb9f3a\"], [0.8888888888888888, \"#fdca26\"], [1.0, \"#f0f921\"]], \"type\": \"heatmap\"}], \"heatmapgl\": [{\"colorbar\": {\"outlinewidth\": 0, \"ticks\": \"\"}, \"colorscale\": [[0.0, \"#0d0887\"], [0.1111111111111111, \"#46039f\"], [0.2222222222222222, \"#7201a8\"], [0.3333333333333333, \"#9c179e\"], [0.4444444444444444, \"#bd3786\"], [0.5555555555555556, \"#d8576b\"], [0.6666666666666666, \"#ed7953\"], [0.7777777777777778, \"#fb9f3a\"], [0.8888888888888888, \"#fdca26\"], [1.0, \"#f0f921\"]], \"type\": \"heatmapgl\"}], \"histogram\": [{\"marker\": {\"colorbar\": {\"outlinewidth\": 0, \"ticks\": \"\"}}, \"type\": \"histogram\"}], \"histogram2d\": [{\"colorbar\": {\"outlinewidth\": 0, \"ticks\": \"\"}, \"colorscale\": [[0.0, \"#0d0887\"], [0.1111111111111111, \"#46039f\"], [0.2222222222222222, \"#7201a8\"], [0.3333333333333333, \"#9c179e\"], [0.4444444444444444, \"#bd3786\"], [0.5555555555555556, \"#d8576b\"], [0.6666666666666666, \"#ed7953\"], [0.7777777777777778, \"#fb9f3a\"], [0.8888888888888888, \"#fdca26\"], [1.0, \"#f0f921\"]], \"type\": \"histogram2d\"}], \"histogram2dcontour\": [{\"colorbar\": {\"outlinewidth\": 0, \"ticks\": \"\"}, \"colorscale\": [[0.0, \"#0d0887\"], [0.1111111111111111, \"#46039f\"], [0.2222222222222222, \"#7201a8\"], [0.3333333333333333, \"#9c179e\"], [0.4444444444444444, \"#bd3786\"], [0.5555555555555556, \"#d8576b\"], [0.6666666666666666, \"#ed7953\"], [0.7777777777777778, \"#fb9f3a\"], [0.8888888888888888, \"#fdca26\"], [1.0, \"#f0f921\"]], \"type\": \"histogram2dcontour\"}], \"mesh3d\": [{\"colorbar\": {\"outlinewidth\": 0, \"ticks\": \"\"}, \"type\": \"mesh3d\"}], \"parcoords\": [{\"line\": {\"colorbar\": {\"outlinewidth\": 0, \"ticks\": \"\"}}, \"type\": \"parcoords\"}], \"pie\": [{\"automargin\": true, \"type\": \"pie\"}], \"scatter\": [{\"marker\": {\"colorbar\": {\"outlinewidth\": 0, \"ticks\": \"\"}}, \"type\": \"scatter\"}], \"scatter3d\": [{\"line\": {\"colorbar\": {\"outlinewidth\": 0, \"ticks\": \"\"}}, \"marker\": {\"colorbar\": {\"outlinewidth\": 0, \"ticks\": \"\"}}, \"type\": \"scatter3d\"}], \"scattercarpet\": [{\"marker\": {\"colorbar\": {\"outlinewidth\": 0, \"ticks\": \"\"}}, \"type\": \"scattercarpet\"}], \"scattergeo\": [{\"marker\": {\"colorbar\": {\"outlinewidth\": 0, \"ticks\": \"\"}}, \"type\": \"scattergeo\"}], \"scattergl\": [{\"marker\": {\"colorbar\": {\"outlinewidth\": 0, \"ticks\": \"\"}}, \"type\": \"scattergl\"}], \"scattermapbox\": [{\"marker\": {\"colorbar\": {\"outlinewidth\": 0, \"ticks\": \"\"}}, \"type\": \"scattermapbox\"}], \"scatterpolar\": [{\"marker\": {\"colorbar\": {\"outlinewidth\": 0, \"ticks\": \"\"}}, \"type\": \"scatterpolar\"}], \"scatterpolargl\": [{\"marker\": {\"colorbar\": {\"outlinewidth\": 0, \"ticks\": \"\"}}, \"type\": \"scatterpolargl\"}], \"scatterternary\": [{\"marker\": {\"colorbar\": {\"outlinewidth\": 0, \"ticks\": \"\"}}, \"type\": \"scatterternary\"}], \"surface\": [{\"colorbar\": {\"outlinewidth\": 0, \"ticks\": \"\"}, \"colorscale\": [[0.0, \"#0d0887\"], [0.1111111111111111, \"#46039f\"], [0.2222222222222222, \"#7201a8\"], [0.3333333333333333, \"#9c179e\"], [0.4444444444444444, \"#bd3786\"], [0.5555555555555556, \"#d8576b\"], [0.6666666666666666, \"#ed7953\"], [0.7777777777777778, \"#fb9f3a\"], [0.8888888888888888, \"#fdca26\"], [1.0, \"#f0f921\"]], \"type\": \"surface\"}], \"table\": [{\"cells\": {\"fill\": {\"color\": \"#EBF0F8\"}, \"line\": {\"color\": \"white\"}}, \"header\": {\"fill\": {\"color\": \"#C8D4E3\"}, \"line\": {\"color\": \"white\"}}, \"type\": \"table\"}]}, \"layout\": {\"annotationdefaults\": {\"arrowcolor\": \"#2a3f5f\", \"arrowhead\": 0, \"arrowwidth\": 1}, \"coloraxis\": {\"colorbar\": {\"outlinewidth\": 0, \"ticks\": \"\"}}, \"colorscale\": {\"diverging\": [[0, \"#8e0152\"], [0.1, \"#c51b7d\"], [0.2, \"#de77ae\"], [0.3, \"#f1b6da\"], [0.4, \"#fde0ef\"], [0.5, \"#f7f7f7\"], [0.6, \"#e6f5d0\"], [0.7, \"#b8e186\"], [0.8, \"#7fbc41\"], [0.9, \"#4d9221\"], [1, \"#276419\"]], \"sequential\": [[0.0, \"#0d0887\"], [0.1111111111111111, \"#46039f\"], [0.2222222222222222, \"#7201a8\"], [0.3333333333333333, \"#9c179e\"], [0.4444444444444444, \"#bd3786\"], [0.5555555555555556, \"#d8576b\"], [0.6666666666666666, \"#ed7953\"], [0.7777777777777778, \"#fb9f3a\"], [0.8888888888888888, \"#fdca26\"], [1.0, \"#f0f921\"]], \"sequentialminus\": [[0.0, \"#0d0887\"], [0.1111111111111111, \"#46039f\"], [0.2222222222222222, \"#7201a8\"], [0.3333333333333333, \"#9c179e\"], [0.4444444444444444, \"#bd3786\"], [0.5555555555555556, \"#d8576b\"], [0.6666666666666666, \"#ed7953\"], [0.7777777777777778, \"#fb9f3a\"], [0.8888888888888888, \"#fdca26\"], [1.0, \"#f0f921\"]]}, \"colorway\": [\"#636efa\", \"#EF553B\", \"#00cc96\", \"#ab63fa\", \"#FFA15A\", \"#19d3f3\", \"#FF6692\", \"#B6E880\", \"#FF97FF\", \"#FECB52\"], \"font\": {\"color\": \"#2a3f5f\"}, \"geo\": {\"bgcolor\": \"white\", \"lakecolor\": \"white\", \"landcolor\": \"#E5ECF6\", \"showlakes\": true, \"showland\": true, \"subunitcolor\": \"white\"}, \"hoverlabel\": {\"align\": \"left\"}, \"hovermode\": \"closest\", \"mapbox\": {\"style\": \"light\"}, \"paper_bgcolor\": \"white\", \"plot_bgcolor\": \"#E5ECF6\", \"polar\": {\"angularaxis\": {\"gridcolor\": \"white\", \"linecolor\": \"white\", \"ticks\": \"\"}, \"bgcolor\": \"#E5ECF6\", \"radialaxis\": {\"gridcolor\": \"white\", \"linecolor\": \"white\", \"ticks\": \"\"}}, \"scene\": {\"xaxis\": {\"backgroundcolor\": \"#E5ECF6\", \"gridcolor\": \"white\", \"gridwidth\": 2, \"linecolor\": \"white\", \"showbackground\": true, \"ticks\": \"\", \"zerolinecolor\": \"white\"}, \"yaxis\": {\"backgroundcolor\": \"#E5ECF6\", \"gridcolor\": \"white\", \"gridwidth\": 2, \"linecolor\": \"white\", \"showbackground\": true, \"ticks\": \"\", \"zerolinecolor\": \"white\"}, \"zaxis\": {\"backgroundcolor\": \"#E5ECF6\", \"gridcolor\": \"white\", \"gridwidth\": 2, \"linecolor\": \"white\", \"showbackground\": true, \"ticks\": \"\", \"zerolinecolor\": \"white\"}}, \"shapedefaults\": {\"line\": {\"color\": \"#2a3f5f\"}}, \"ternary\": {\"aaxis\": {\"gridcolor\": \"white\", \"linecolor\": \"white\", \"ticks\": \"\"}, \"baxis\": {\"gridcolor\": \"white\", \"linecolor\": \"white\", \"ticks\": \"\"}, \"bgcolor\": \"#E5ECF6\", \"caxis\": {\"gridcolor\": \"white\", \"linecolor\": \"white\", \"ticks\": \"\"}}, \"title\": {\"x\": 0.05}, \"xaxis\": {\"automargin\": true, \"gridcolor\": \"white\", \"linecolor\": \"white\", \"ticks\": \"\", \"title\": {\"standoff\": 15}, \"zerolinecolor\": \"white\", \"zerolinewidth\": 2}, \"yaxis\": {\"automargin\": true, \"gridcolor\": \"white\", \"linecolor\": \"white\", \"ticks\": \"\", \"title\": {\"standoff\": 15}, \"zerolinecolor\": \"white\", \"zerolinewidth\": 2}}}, \"xaxis\": {\"anchor\": \"y\", \"domain\": [0.0, 1.0], \"title\": {\"text\": \"quality\"}}, \"yaxis\": {\"anchor\": \"x\", \"domain\": [0.0, 1.0], \"title\": {\"text\": \"count\"}}},\n",
              "                        {\"responsive\": true}\n",
              "                    ).then(function(){\n",
              "                            \n",
              "var gd = document.getElementById('60c4d8d7-ea08-4242-9e40-753b6ad7ee19');\n",
              "var x = new MutationObserver(function (mutations, observer) {{\n",
              "        var display = window.getComputedStyle(gd).display;\n",
              "        if (!display || display === 'none') {{\n",
              "            console.log([gd, 'removed!']);\n",
              "            Plotly.purge(gd);\n",
              "            observer.disconnect();\n",
              "        }}\n",
              "}});\n",
              "\n",
              "// Listen for the removal of the full notebook cells\n",
              "var notebookContainer = gd.closest('#notebook-container');\n",
              "if (notebookContainer) {{\n",
              "    x.observe(notebookContainer, {childList: true});\n",
              "}}\n",
              "\n",
              "// Listen for the clearing of the current output cell\n",
              "var outputEl = gd.closest('.output');\n",
              "if (outputEl) {{\n",
              "    x.observe(outputEl, {childList: true});\n",
              "}}\n",
              "\n",
              "                        })\n",
              "                };\n",
              "                \n",
              "            </script>\n",
              "        </div>\n",
              "</body>\n",
              "</html>"
            ]
          },
          "metadata": {
            "tags": []
          }
        }
      ]
    },
    {
      "cell_type": "markdown",
      "metadata": {
        "id": "GTsX6eUUkMg7"
      },
      "source": [
        "**Correlation Matrix**\n",
        "\n",
        "I wanted to see the correlations between the variables that I’m working with. This allows me to get a much better understanding of the **relationships between my variables** in a quick glimpse.\n",
        "\n",
        "Immediately, I can see that there are some variables that are strongly correlated to quality. It’s likely that these variables are also the most important features in our machine learning model, but we’ll take a look at that later.\n"
      ]
    },
    {
      "cell_type": "code",
      "metadata": {
        "colab": {
          "base_uri": "https://localhost:8080/",
          "height": 695
        },
        "id": "iRqf8QWKkPZ-",
        "outputId": "593b2da2-737d-457c-a109-cfe76c56c000"
      },
      "source": [
        "corr = df.corr()\n",
        "# Setup an empty plot to show the result\n",
        "plt.pyplot.subplots(figsize=(15,10))\n",
        "\n",
        "# Using a heatmap (From seaborm) to show the corrleation \n",
        "sns.heatmap(corr, \n",
        "            xticklabels=corr.columns, \n",
        "            yticklabels=corr.columns, \n",
        "            annot=True, \n",
        "            cmap=sns.diverging_palette(220, 20, as_cmap=True))"
      ],
      "execution_count": null,
      "outputs": [
        {
          "output_type": "execute_result",
          "data": {
            "text/plain": [
              "<matplotlib.axes._subplots.AxesSubplot at 0x7f1bbc155ad0>"
            ]
          },
          "metadata": {
            "tags": []
          },
          "execution_count": 7
        },
        {
          "output_type": "display_data",
          "data": {
            "image/png": "[encoded data removed]",
            "text/plain": [
              "<Figure size 1080x720 with 2 Axes>"
            ]
          },
          "metadata": {
            "tags": [],
            "needs_background": "light"
          }
        }
      ]
    },
    {
      "cell_type": "code",
      "metadata": {
        "colab": {
          "base_uri": "https://localhost:8080/",
          "height": 411
        },
        "id": "pxHxejAC4fxS",
        "outputId": "1e06b828-aab4-4d9b-851a-bc2d3977968f"
      },
      "source": [
        "corr"
      ],
      "execution_count": null,
      "outputs": [
        {
          "output_type": "execute_result",
          "data": {
            "text/html": [
              "<div>\n",
              "<style scoped>\n",
              "    .dataframe tbody tr th:only-of-type {\n",
              "        vertical-align: middle;\n",
              "    }\n",
              "\n",
              "    .dataframe tbody tr th {\n",
              "        vertical-align: top;\n",
              "    }\n",
              "\n",
              "    .dataframe thead th {\n",
              "        text-align: right;\n",
              "    }\n",
              "</style>\n",
              "<table border=\"1\" class=\"dataframe\">\n",
              "  <thead>\n",
              "    <tr style=\"text-align: right;\">\n",
              "      <th></th>\n",
              "      <th>fixed acidity</th>\n",
              "      <th>volatile acidity</th>\n",
              "      <th>citric acid</th>\n",
              "      <th>residual sugar</th>\n",
              "      <th>chlorides</th>\n",
              "      <th>free sulfur dioxide</th>\n",
              "      <th>total sulfur dioxide</th>\n",
              "      <th>density</th>\n",
              "      <th>pH</th>\n",
              "      <th>sulphates</th>\n",
              "      <th>alcohol</th>\n",
              "      <th>quality</th>\n",
              "    </tr>\n",
              "  </thead>\n",
              "  <tbody>\n",
              "    <tr>\n",
              "      <th>fixed acidity</th>\n",
              "      <td>1.000000</td>\n",
              "      <td>-0.256131</td>\n",
              "      <td>0.671703</td>\n",
              "      <td>0.114777</td>\n",
              "      <td>0.093705</td>\n",
              "      <td>-0.153794</td>\n",
              "      <td>-0.113181</td>\n",
              "      <td>0.668047</td>\n",
              "      <td>-0.682978</td>\n",
              "      <td>0.183006</td>\n",
              "      <td>-0.061668</td>\n",
              "      <td>0.124052</td>\n",
              "    </tr>\n",
              "    <tr>\n",
              "      <th>volatile acidity</th>\n",
              "      <td>-0.256131</td>\n",
              "      <td>1.000000</td>\n",
              "      <td>-0.552496</td>\n",
              "      <td>0.001918</td>\n",
              "      <td>0.061298</td>\n",
              "      <td>-0.010504</td>\n",
              "      <td>0.076470</td>\n",
              "      <td>0.022026</td>\n",
              "      <td>0.234937</td>\n",
              "      <td>-0.260987</td>\n",
              "      <td>-0.202288</td>\n",
              "      <td>-0.390558</td>\n",
              "    </tr>\n",
              "    <tr>\n",
              "      <th>citric acid</th>\n",
              "      <td>0.671703</td>\n",
              "      <td>-0.552496</td>\n",
              "      <td>1.000000</td>\n",
              "      <td>0.143577</td>\n",
              "      <td>0.203823</td>\n",
              "      <td>-0.060978</td>\n",
              "      <td>0.035533</td>\n",
              "      <td>0.364947</td>\n",
              "      <td>-0.541904</td>\n",
              "      <td>0.312770</td>\n",
              "      <td>0.109903</td>\n",
              "      <td>0.226373</td>\n",
              "    </tr>\n",
              "    <tr>\n",
              "      <th>residual sugar</th>\n",
              "      <td>0.114777</td>\n",
              "      <td>0.001918</td>\n",
              "      <td>0.143577</td>\n",
              "      <td>1.000000</td>\n",
              "      <td>0.055610</td>\n",
              "      <td>0.187049</td>\n",
              "      <td>0.203028</td>\n",
              "      <td>0.355283</td>\n",
              "      <td>-0.085652</td>\n",
              "      <td>0.005527</td>\n",
              "      <td>0.042075</td>\n",
              "      <td>0.013732</td>\n",
              "    </tr>\n",
              "    <tr>\n",
              "      <th>chlorides</th>\n",
              "      <td>0.093705</td>\n",
              "      <td>0.061298</td>\n",
              "      <td>0.203823</td>\n",
              "      <td>0.055610</td>\n",
              "      <td>1.000000</td>\n",
              "      <td>0.005562</td>\n",
              "      <td>0.047400</td>\n",
              "      <td>0.200632</td>\n",
              "      <td>-0.265026</td>\n",
              "      <td>0.371260</td>\n",
              "      <td>-0.221141</td>\n",
              "      <td>-0.128907</td>\n",
              "    </tr>\n",
              "    <tr>\n",
              "      <th>free sulfur dioxide</th>\n",
              "      <td>-0.153794</td>\n",
              "      <td>-0.010504</td>\n",
              "      <td>-0.060978</td>\n",
              "      <td>0.187049</td>\n",
              "      <td>0.005562</td>\n",
              "      <td>1.000000</td>\n",
              "      <td>0.667666</td>\n",
              "      <td>-0.021946</td>\n",
              "      <td>0.070377</td>\n",
              "      <td>0.051658</td>\n",
              "      <td>-0.069408</td>\n",
              "      <td>-0.050656</td>\n",
              "    </tr>\n",
              "    <tr>\n",
              "      <th>total sulfur dioxide</th>\n",
              "      <td>-0.113181</td>\n",
              "      <td>0.076470</td>\n",
              "      <td>0.035533</td>\n",
              "      <td>0.203028</td>\n",
              "      <td>0.047400</td>\n",
              "      <td>0.667666</td>\n",
              "      <td>1.000000</td>\n",
              "      <td>0.071269</td>\n",
              "      <td>-0.066495</td>\n",
              "      <td>0.042947</td>\n",
              "      <td>-0.205654</td>\n",
              "      <td>-0.185100</td>\n",
              "    </tr>\n",
              "    <tr>\n",
              "      <th>density</th>\n",
              "      <td>0.668047</td>\n",
              "      <td>0.022026</td>\n",
              "      <td>0.364947</td>\n",
              "      <td>0.355283</td>\n",
              "      <td>0.200632</td>\n",
              "      <td>-0.021946</td>\n",
              "      <td>0.071269</td>\n",
              "      <td>1.000000</td>\n",
              "      <td>-0.341699</td>\n",
              "      <td>0.148506</td>\n",
              "      <td>-0.496180</td>\n",
              "      <td>-0.174919</td>\n",
              "    </tr>\n",
              "    <tr>\n",
              "      <th>pH</th>\n",
              "      <td>-0.682978</td>\n",
              "      <td>0.234937</td>\n",
              "      <td>-0.541904</td>\n",
              "      <td>-0.085652</td>\n",
              "      <td>-0.265026</td>\n",
              "      <td>0.070377</td>\n",
              "      <td>-0.066495</td>\n",
              "      <td>-0.341699</td>\n",
              "      <td>1.000000</td>\n",
              "      <td>-0.196648</td>\n",
              "      <td>0.205633</td>\n",
              "      <td>-0.057731</td>\n",
              "    </tr>\n",
              "    <tr>\n",
              "      <th>sulphates</th>\n",
              "      <td>0.183006</td>\n",
              "      <td>-0.260987</td>\n",
              "      <td>0.312770</td>\n",
              "      <td>0.005527</td>\n",
              "      <td>0.371260</td>\n",
              "      <td>0.051658</td>\n",
              "      <td>0.042947</td>\n",
              "      <td>0.148506</td>\n",
              "      <td>-0.196648</td>\n",
              "      <td>1.000000</td>\n",
              "      <td>0.093595</td>\n",
              "      <td>0.251397</td>\n",
              "    </tr>\n",
              "    <tr>\n",
              "      <th>alcohol</th>\n",
              "      <td>-0.061668</td>\n",
              "      <td>-0.202288</td>\n",
              "      <td>0.109903</td>\n",
              "      <td>0.042075</td>\n",
              "      <td>-0.221141</td>\n",
              "      <td>-0.069408</td>\n",
              "      <td>-0.205654</td>\n",
              "      <td>-0.496180</td>\n",
              "      <td>0.205633</td>\n",
              "      <td>0.093595</td>\n",
              "      <td>1.000000</td>\n",
              "      <td>0.476166</td>\n",
              "    </tr>\n",
              "    <tr>\n",
              "      <th>quality</th>\n",
              "      <td>0.124052</td>\n",
              "      <td>-0.390558</td>\n",
              "      <td>0.226373</td>\n",
              "      <td>0.013732</td>\n",
              "      <td>-0.128907</td>\n",
              "      <td>-0.050656</td>\n",
              "      <td>-0.185100</td>\n",
              "      <td>-0.174919</td>\n",
              "      <td>-0.057731</td>\n",
              "      <td>0.251397</td>\n",
              "      <td>0.476166</td>\n",
              "      <td>1.000000</td>\n",
              "    </tr>\n",
              "  </tbody>\n",
              "</table>\n",
              "</div>"
            ],
            "text/plain": [
              "                      fixed acidity  volatile acidity  ...   alcohol   quality\n",
              "fixed acidity              1.000000         -0.256131  ... -0.061668  0.124052\n",
              "volatile acidity          -0.256131          1.000000  ... -0.202288 -0.390558\n",
              "citric acid                0.671703         -0.552496  ...  0.109903  0.226373\n",
              "residual sugar             0.114777          0.001918  ...  0.042075  0.013732\n",
              "chlorides                  0.093705          0.061298  ... -0.221141 -0.128907\n",
              "free sulfur dioxide       -0.153794         -0.010504  ... -0.069408 -0.050656\n",
              "total sulfur dioxide      -0.113181          0.076470  ... -0.205654 -0.185100\n",
              "density                    0.668047          0.022026  ... -0.496180 -0.174919\n",
              "pH                        -0.682978          0.234937  ...  0.205633 -0.057731\n",
              "sulphates                  0.183006         -0.260987  ...  0.093595  0.251397\n",
              "alcohol                   -0.061668         -0.202288  ...  1.000000  0.476166\n",
              "quality                    0.124052         -0.390558  ...  0.476166  1.000000\n",
              "\n",
              "[12 rows x 12 columns]"
            ]
          },
          "metadata": {
            "tags": []
          },
          "execution_count": 23
        }
      ]
    },
    {
      "cell_type": "markdown",
      "metadata": {
        "id": "ksPxC7rWlQKK"
      },
      "source": [
        "##**Convert to a Classification Problem**\n",
        "\n",
        "I wanted to compare the effectiveness of **different classification techniques**, so I needed to change the output variable to a binary output.\n",
        "\n",
        "For this problem, I defined a bottle of wine as\n",
        "*   ‘good quality’ if it had a quality score of 7 or higher\n",
        "*   ‘bad quality’ if it had a score of less than 7\n",
        "\n",
        "\n",
        "\n",
        "Once I converted the output variable to a binary output, I separated my feature variables (X) and the target variable (y) into separate dataframes."
      ]
    },
    {
      "cell_type": "code",
      "metadata": {
        "id": "rQchRLJmlmmV"
      },
      "source": [
        "# Create Classification version of target variable\n",
        "df['goodquality'] = [1 if x >= 7 else 0 for x in df['quality']]\n",
        "\n",
        "# Separate feature variables and target variable\n",
        "X = df.drop(['quality','goodquality'], axis = 1)\n",
        "y = df['goodquality']"
      ],
      "execution_count": null,
      "outputs": []
    },
    {
      "cell_type": "markdown",
      "metadata": {
        "id": "lAqBKjLXlsj5"
      },
      "source": [
        "**Proportion of Good vs Bad Wines**\n",
        "\n",
        "\n",
        "\n",
        "\n",
        "\n",
        "To make sure that there was a reasonable number of good quality wines. Based on the results below, it seemed like a fair enough number. \n",
        "\n",
        "In some applications, resampling may be required if the data was extremely imbalanced, but I assumed that it was okay for this purpose."
      ]
    },
    {
      "cell_type": "code",
      "metadata": {
        "colab": {
          "base_uri": "https://localhost:8080/"
        },
        "id": "R9XvHe9Ul5jP",
        "outputId": "291b905f-f162-4932-e9f3-9b14616edd68"
      },
      "source": [
        "# See proportion of good vs bad wines\n",
        "df['goodquality'].value_counts()"
      ],
      "execution_count": null,
      "outputs": [
        {
          "output_type": "execute_result",
          "data": {
            "text/plain": [
              "0    1382\n",
              "1     217\n",
              "Name: goodquality, dtype: int64"
            ]
          },
          "metadata": {
            "tags": []
          },
          "execution_count": 10
        }
      ]
    },
    {
      "cell_type": "markdown",
      "metadata": {
        "id": "Npyx4fT5m2ZO"
      },
      "source": [
        "##**Preparing Data for Modelling**"
      ]
    },
    {
      "cell_type": "markdown",
      "metadata": {
        "id": "DZNCVPvmm6c2"
      },
      "source": [
        "**Standardizing Feature Variables**\n",
        "\n",
        "At this point, I felt that I was ready to prepare the data for modelling. The first thing that I did was standardize the data. Standardizing the data means that it will transform the data so that its distribution will have a mean of 0 and a standard deviation of 1. \n",
        "\n",
        "It’s important to standardize your data in order to equalize the range of the data.\n",
        "\n",
        "\n",
        "For example, imagine a dataset with two input features: height in millimeters and weight in pounds. **Because the values of ‘height’ are much higher due to its measurement, a greater emphasis will automatically be placed on height than weight, creating a bias.**"
      ]
    },
    {
      "cell_type": "code",
      "metadata": {
        "id": "bhSLlV5D5s1T"
      },
      "source": [
        "# Normalize feature variables\n",
        "from sklearn.preprocessing import StandardScaler\n",
        "X_features = X\n",
        "X = StandardScaler().fit_transform(X)"
      ],
      "execution_count": null,
      "outputs": []
    },
    {
      "cell_type": "markdown",
      "metadata": {
        "id": "KGtSaRuV5uqo"
      },
      "source": [
        "**Split data**\n",
        "\n",
        "Next I split the data into a training and test set so that I could cross-validate my models and determine their effectiveness."
      ]
    },
    {
      "cell_type": "code",
      "metadata": {
        "id": "Dd_ySUgc5z4K"
      },
      "source": [
        "# Splitting the data\n",
        "from sklearn.model_selection import train_test_split\n",
        "X_train, X_test, y_train, y_test = train_test_split(X, y, test_size=.25, random_state=0)"
      ],
      "execution_count": null,
      "outputs": []
    },
    {
      "cell_type": "markdown",
      "metadata": {
        "id": "o9sLzoG_51ik"
      },
      "source": [
        "##**Modelling**\n",
        "For this project, I wanted to compare five different machine learning models: \n",
        "* decision trees\n",
        "* random forests\n",
        "* AdaBoost\n",
        "* Gradient Boost, and \n",
        "* XGBoost. \n",
        "\n",
        "For the purpose of this project, I wanted to compare these models by their accuracy."
      ]
    },
    {
      "cell_type": "markdown",
      "metadata": {
        "id": "LUCp1aOS6Gsv"
      },
      "source": [
        "**Model 1: Decision Tree**\n"
      ]
    },
    {
      "cell_type": "markdown",
      "metadata": {
        "id": "LazGTxff6dpG"
      },
      "source": [
        "Decision trees are a popular model, used in operations research, strategic planning, and machine learning. \n",
        "\n",
        "Each square above is called a node, and the more nodes you have, the more accurate your decision tree will be (generally). The last nodes of the decision tree, where a decision is made, are called the leaves of the tree. \n",
        "\n",
        "Decision trees are intuitive and easy to build but fall short when it comes to accuracy."
      ]
    },
    {
      "cell_type": "markdown",
      "metadata": {
        "id": "35kdFHCp6ZUy"
      },
      "source": [
        "![1_f_tt4OIzuY4yoPrnFP0gdA.png](data:image/png;base64,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)"
      ]
    },
    {
      "cell_type": "code",
      "metadata": {
        "colab": {
          "base_uri": "https://localhost:8080/"
        },
        "id": "583K3cNv6nrX",
        "outputId": "8453d312-64ff-497d-b9e5-ab51e5a6c40c"
      },
      "source": [
        "from sklearn.metrics import classification_report\n",
        "from sklearn.tree import DecisionTreeClassifier\n",
        "\n",
        "model1 = DecisionTreeClassifier(random_state=1)\n",
        "model1.fit(X_train, y_train)\n",
        "\n",
        "y_pred1 = model1.predict(X_test)\n",
        "print(classification_report(y_test, y_pred1))"
      ],
      "execution_count": null,
      "outputs": [
        {
          "output_type": "stream",
          "text": [
            "              precision    recall  f1-score   support\n",
            "\n",
            "           0       0.96      0.92      0.94       355\n",
            "           1       0.53      0.73      0.62        45\n",
            "\n",
            "    accuracy                           0.90       400\n",
            "   macro avg       0.75      0.83      0.78       400\n",
            "weighted avg       0.92      0.90      0.90       400\n",
            "\n"
          ],
          "name": "stdout"
        }
      ]
    },
    {
      "cell_type": "markdown",
      "metadata": {
        "id": "__xgZM7Q6ss5"
      },
      "source": [
        "**Model 2: Random Forest**\n",
        "\n",
        "Random forests are an ensemble learning technique that builds off of decision trees. \n",
        "\n",
        "Random forests involve creating multiple decision trees using bootstrapped datasets of the original data and randomly selecting a subset of variables at each step of the decision tree. The model then selects the mode of all of the predictions of each decision tree. \n",
        "\n",
        "By relying on a “majority wins” model, it reduces the risk of error from an individual tree."
      ]
    },
    {
      "cell_type": "markdown",
      "metadata": {
        "id": "MQkhZ9_Y65VS"
      },
      "source": [
        "![0_m7GqdxdOVwrypcP4.png](data:image/png;base64,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)"
      ]
    },
    {
      "cell_type": "markdown",
      "metadata": {
        "id": "g3s5QwYC68qd"
      },
      "source": [
        "For example, if we created one decision tree, the third one, it would predict 0. But if we relied on the mode of all 4 decision trees, the predicted value would be 1. This is the power of random forests."
      ]
    },
    {
      "cell_type": "code",
      "metadata": {
        "colab": {
          "base_uri": "https://localhost:8080/"
        },
        "id": "8gg-7lsk6-k-",
        "outputId": "dfc71c0f-ca5a-46fe-f232-e209964698d5"
      },
      "source": [
        "from sklearn.ensemble import RandomForestClassifier\n",
        "\n",
        "model2 = RandomForestClassifier(random_state=1)\n",
        "model2.fit(X_train, y_train)\n",
        "\n",
        "y_pred2 = model2.predict(X_test)\n",
        "print(classification_report(y_test, y_pred2))"
      ],
      "execution_count": null,
      "outputs": [
        {
          "output_type": "stream",
          "text": [
            "              precision    recall  f1-score   support\n",
            "\n",
            "           0       0.95      0.97      0.96       355\n",
            "           1       0.68      0.58      0.63        45\n",
            "\n",
            "    accuracy                           0.92       400\n",
            "   macro avg       0.82      0.77      0.79       400\n",
            "weighted avg       0.92      0.92      0.92       400\n",
            "\n"
          ],
          "name": "stdout"
        }
      ]
    },
    {
      "cell_type": "markdown",
      "metadata": {
        "id": "Ug8moobv7GXb"
      },
      "source": [
        "**Model 3: AdaBoost**\n",
        "\n",
        "The next three models are boosting algorithms that take weak learners and turn them into strong ones. \n",
        "\n",
        "*   [AdaBoost](https://www.youtube.com/watch?v=LsK-xG1cLYA&ab_channel=StatQuestwithJoshStarmer)\n",
        "*   [Gradient Boost](https://www.youtube.com/watch?v=3CC4N4z3GJc)\n",
        "*  [XGBoost](https://www.youtube.com/watch?v=OtD8wVaFm6E)\n",
        "\n"
      ]
    },
    {
      "cell_type": "code",
      "metadata": {
        "colab": {
          "base_uri": "https://localhost:8080/"
        },
        "id": "EL84iSWF7mm3",
        "outputId": "0e49ebef-4b56-4b33-dee6-338612006275"
      },
      "source": [
        "from sklearn.ensemble import AdaBoostClassifier\n",
        "\n",
        "model3 = AdaBoostClassifier(random_state=1)\n",
        "model3.fit(X_train, y_train)\n",
        "\n",
        "y_pred3 = model3.predict(X_test)\n",
        "print(classification_report(y_test, y_pred3))"
      ],
      "execution_count": null,
      "outputs": [
        {
          "output_type": "stream",
          "text": [
            "              precision    recall  f1-score   support\n",
            "\n",
            "           0       0.94      0.94      0.94       355\n",
            "           1       0.51      0.49      0.50        45\n",
            "\n",
            "    accuracy                           0.89       400\n",
            "   macro avg       0.72      0.71      0.72       400\n",
            "weighted avg       0.89      0.89      0.89       400\n",
            "\n"
          ],
          "name": "stdout"
        }
      ]
    },
    {
      "cell_type": "markdown",
      "metadata": {
        "id": "iqYEXVOq7zZz"
      },
      "source": [
        "**Model 4: Gradient Boosting**\n"
      ]
    },
    {
      "cell_type": "code",
      "metadata": {
        "colab": {
          "base_uri": "https://localhost:8080/"
        },
        "id": "IV1T7vDU7w21",
        "outputId": "e620f54c-330e-4d1c-e1fc-e0c53d0b2b4c"
      },
      "source": [
        "from sklearn.ensemble import GradientBoostingClassifier\n",
        "\n",
        "model4 = GradientBoostingClassifier(random_state=1)\n",
        "model4.fit(X_train, y_train)\n",
        "\n",
        "y_pred4 = model4.predict(X_test)\n",
        "print(classification_report(y_test, y_pred4))"
      ],
      "execution_count": null,
      "outputs": [
        {
          "output_type": "stream",
          "text": [
            "              precision    recall  f1-score   support\n",
            "\n",
            "           0       0.94      0.94      0.94       355\n",
            "           1       0.52      0.51      0.52        45\n",
            "\n",
            "    accuracy                           0.89       400\n",
            "   macro avg       0.73      0.73      0.73       400\n",
            "weighted avg       0.89      0.89      0.89       400\n",
            "\n"
          ],
          "name": "stdout"
        }
      ]
    },
    {
      "cell_type": "markdown",
      "metadata": {
        "id": "ivXeT-o871ro"
      },
      "source": [
        "**Model 5: XGBoost**\n"
      ]
    },
    {
      "cell_type": "code",
      "metadata": {
        "colab": {
          "base_uri": "https://localhost:8080/"
        },
        "id": "ycfEMppE74BE",
        "outputId": "08ffa53e-db9e-4533-9b22-725c402baffe"
      },
      "source": [
        "import xgboost as xgb\n",
        "\n",
        "model5 = xgb.XGBClassifier(random_state=1)\n",
        "model5.fit(X_train, y_train)\n",
        "\n",
        "y_pred5 = model5.predict(X_test)\n",
        "print(classification_report(y_test, y_pred5))"
      ],
      "execution_count": null,
      "outputs": [
        {
          "output_type": "stream",
          "text": [
            "              precision    recall  f1-score   support\n",
            "\n",
            "           0       0.94      0.95      0.95       355\n",
            "           1       0.57      0.56      0.56        45\n",
            "\n",
            "    accuracy                           0.90       400\n",
            "   macro avg       0.76      0.75      0.75       400\n",
            "weighted avg       0.90      0.90      0.90       400\n",
            "\n"
          ],
          "name": "stdout"
        }
      ]
    },
    {
      "cell_type": "markdown",
      "metadata": {
        "id": "BLovclkf8DZc"
      },
      "source": [
        "By comparing the five models, the random forest and XGBoost seems to yield the highest level of accuracy. However, since XGBoost has a better f1-score for predicting good quality wines (1), I’m concluding that the XGBoost is the winner of the five models."
      ]
    },
    {
      "cell_type": "markdown",
      "metadata": {
        "id": "QPq0hzI888SF"
      },
      "source": [
        "##**Feature Importance**\n",
        "Below, I graphed the feature importance based on the Random Forest model and the XGBoost model. While they slightly vary, the top 3 features are the same: **alcohol, volatile acidity, and sulphates**. \n",
        "\n",
        "If you look below the graphs, I split the dataset into good quality and bad quality to compare these variables in more detail."
      ]
    },
    {
      "cell_type": "markdown",
      "metadata": {
        "id": "HItJby-L91TN"
      },
      "source": [
        "**via Random Forest**"
      ]
    },
    {
      "cell_type": "code",
      "metadata": {
        "colab": {
          "base_uri": "https://localhost:8080/",
          "height": 608
        },
        "id": "Ts7v6no690If",
        "outputId": "a22e2d4f-5019-4409-cd2c-1d9c65fae23f"
      },
      "source": [
        "feat_importances = pd.Series(model2.feature_importances_, index=X_features.columns)\n",
        "feat_importances.nlargest(25).plot(kind='barh',figsize=(10,10))"
      ],
      "execution_count": null,
      "outputs": [
        {
          "output_type": "execute_result",
          "data": {
            "text/plain": [
              "<matplotlib.axes._subplots.AxesSubplot at 0x7f1bad7d4110>"
            ]
          },
          "metadata": {
            "tags": []
          },
          "execution_count": 18
        },
        {
          "output_type": "display_data",
          "data": {
            "image/png": "[encoded data removed]",
            "text/plain": [
              "<Figure size 720x720 with 1 Axes>"
            ]
          },
          "metadata": {
            "tags": [],
            "needs_background": "light"
          }
        }
      ]
    },
    {
      "cell_type": "markdown",
      "metadata": {
        "id": "Vkr4w5gX95nb"
      },
      "source": [
        "**via XGBoost**"
      ]
    },
    {
      "cell_type": "code",
      "metadata": {
        "colab": {
          "base_uri": "https://localhost:8080/",
          "height": 608
        },
        "id": "jdE6vB8e95QU",
        "outputId": "d1139d94-4dd4-491f-d254-6aece0d1af6a"
      },
      "source": [
        "feat_importances = pd.Series(model5.feature_importances_, index=X_features.columns)\n",
        "feat_importances.nlargest(25).plot(kind='barh',figsize=(10,10))"
      ],
      "execution_count": null,
      "outputs": [
        {
          "output_type": "execute_result",
          "data": {
            "text/plain": [
              "<matplotlib.axes._subplots.AxesSubplot at 0x7f1bad6fb810>"
            ]
          },
          "metadata": {
            "tags": []
          },
          "execution_count": 19
        },
        {
          "output_type": "display_data",
          "data": {
            "image/png": "[encoded data removed]",
            "text/plain": [
              "<Figure size 720x720 with 1 Axes>"
            ]
          },
          "metadata": {
            "tags": [],
            "needs_background": "light"
          }
        }
      ]
    },
    {
      "cell_type": "markdown",
      "metadata": {
        "id": "gZiqXhOB9_Jc"
      },
      "source": [
        "**Comparing the Top 4 Features**\n",
        "\n",
        "By looking into the details, we can see that good quality wines have higher levels of alcohol on average, have a lower volatile acidity on average, higher levels of sulphates on average, and higher levels of residual sugar on average."
      ]
    },
    {
      "cell_type": "code",
      "metadata": {
        "id": "DEimmcCz-D8h",
        "colab": {
          "base_uri": "https://localhost:8080/",
          "height": 290
        },
        "outputId": "bd1081e2-3a2a-4904-ed2b-864051cdc7f7"
      },
      "source": [
        "# Filtering df for only good quality\n",
        "df_temp = df[df['goodquality']==1]\n",
        "df_temp.describe()\n",
        "# Filtering df for only bad quality\n",
        "df_temp2 = df[df['goodquality']==0]\n",
        "df_temp2.describe()"
      ],
      "execution_count": null,
      "outputs": [
        {
          "output_type": "execute_result",
          "data": {
            "text/html": [
              "<div>\n",
              "<style scoped>\n",
              "    .dataframe tbody tr th:only-of-type {\n",
              "        vertical-align: middle;\n",
              "    }\n",
              "\n",
              "    .dataframe tbody tr th {\n",
              "        vertical-align: top;\n",
              "    }\n",
              "\n",
              "    .dataframe thead th {\n",
              "        text-align: right;\n",
              "    }\n",
              "</style>\n",
              "<table border=\"1\" class=\"dataframe\">\n",
              "  <thead>\n",
              "    <tr style=\"text-align: right;\">\n",
              "      <th></th>\n",
              "      <th>fixed acidity</th>\n",
              "      <th>volatile acidity</th>\n",
              "      <th>citric acid</th>\n",
              "      <th>residual sugar</th>\n",
              "      <th>chlorides</th>\n",
              "      <th>free sulfur dioxide</th>\n",
              "      <th>total sulfur dioxide</th>\n",
              "      <th>density</th>\n",
              "      <th>pH</th>\n",
              "      <th>sulphates</th>\n",
              "      <th>alcohol</th>\n",
              "      <th>quality</th>\n",
              "      <th>goodquality</th>\n",
              "    </tr>\n",
              "  </thead>\n",
              "  <tbody>\n",
              "    <tr>\n",
              "      <th>count</th>\n",
              "      <td>1382.000000</td>\n",
              "      <td>1382.000000</td>\n",
              "      <td>1382.000000</td>\n",
              "      <td>1382.000000</td>\n",
              "      <td>1382.000000</td>\n",
              "      <td>1382.000000</td>\n",
              "      <td>1382.000000</td>\n",
              "      <td>1382.000000</td>\n",
              "      <td>1382.000000</td>\n",
              "      <td>1382.000000</td>\n",
              "      <td>1382.000000</td>\n",
              "      <td>1382.000000</td>\n",
              "      <td>1382.0</td>\n",
              "    </tr>\n",
              "    <tr>\n",
              "      <th>mean</th>\n",
              "      <td>8.236831</td>\n",
              "      <td>0.547022</td>\n",
              "      <td>0.254407</td>\n",
              "      <td>2.512120</td>\n",
              "      <td>0.089281</td>\n",
              "      <td>16.172214</td>\n",
              "      <td>48.285818</td>\n",
              "      <td>0.996859</td>\n",
              "      <td>3.314616</td>\n",
              "      <td>0.644754</td>\n",
              "      <td>10.251037</td>\n",
              "      <td>5.408828</td>\n",
              "      <td>0.0</td>\n",
              "    </tr>\n",
              "    <tr>\n",
              "      <th>std</th>\n",
              "      <td>1.682726</td>\n",
              "      <td>0.176337</td>\n",
              "      <td>0.189665</td>\n",
              "      <td>1.415778</td>\n",
              "      <td>0.049113</td>\n",
              "      <td>10.467685</td>\n",
              "      <td>32.585604</td>\n",
              "      <td>0.001808</td>\n",
              "      <td>0.154135</td>\n",
              "      <td>0.170629</td>\n",
              "      <td>0.969664</td>\n",
              "      <td>0.601719</td>\n",
              "      <td>0.0</td>\n",
              "    </tr>\n",
              "    <tr>\n",
              "      <th>min</th>\n",
              "      <td>4.600000</td>\n",
              "      <td>0.160000</td>\n",
              "      <td>0.000000</td>\n",
              "      <td>0.900000</td>\n",
              "      <td>0.034000</td>\n",
              "      <td>1.000000</td>\n",
              "      <td>6.000000</td>\n",
              "      <td>0.990070</td>\n",
              "      <td>2.740000</td>\n",
              "      <td>0.330000</td>\n",
              "      <td>8.400000</td>\n",
              "      <td>3.000000</td>\n",
              "      <td>0.0</td>\n",
              "    </tr>\n",
              "    <tr>\n",
              "      <th>25%</th>\n",
              "      <td>7.100000</td>\n",
              "      <td>0.420000</td>\n",
              "      <td>0.082500</td>\n",
              "      <td>1.900000</td>\n",
              "      <td>0.071000</td>\n",
              "      <td>8.000000</td>\n",
              "      <td>23.000000</td>\n",
              "      <td>0.995785</td>\n",
              "      <td>3.210000</td>\n",
              "      <td>0.540000</td>\n",
              "      <td>9.500000</td>\n",
              "      <td>5.000000</td>\n",
              "      <td>0.0</td>\n",
              "    </tr>\n",
              "    <tr>\n",
              "      <th>50%</th>\n",
              "      <td>7.800000</td>\n",
              "      <td>0.540000</td>\n",
              "      <td>0.240000</td>\n",
              "      <td>2.200000</td>\n",
              "      <td>0.080000</td>\n",
              "      <td>14.000000</td>\n",
              "      <td>39.500000</td>\n",
              "      <td>0.996800</td>\n",
              "      <td>3.310000</td>\n",
              "      <td>0.600000</td>\n",
              "      <td>10.000000</td>\n",
              "      <td>5.000000</td>\n",
              "      <td>0.0</td>\n",
              "    </tr>\n",
              "    <tr>\n",
              "      <th>75%</th>\n",
              "      <td>9.100000</td>\n",
              "      <td>0.650000</td>\n",
              "      <td>0.400000</td>\n",
              "      <td>2.600000</td>\n",
              "      <td>0.091000</td>\n",
              "      <td>22.000000</td>\n",
              "      <td>65.000000</td>\n",
              "      <td>0.997900</td>\n",
              "      <td>3.410000</td>\n",
              "      <td>0.700000</td>\n",
              "      <td>10.900000</td>\n",
              "      <td>6.000000</td>\n",
              "      <td>0.0</td>\n",
              "    </tr>\n",
              "    <tr>\n",
              "      <th>max</th>\n",
              "      <td>15.900000</td>\n",
              "      <td>1.580000</td>\n",
              "      <td>1.000000</td>\n",
              "      <td>15.500000</td>\n",
              "      <td>0.611000</td>\n",
              "      <td>72.000000</td>\n",
              "      <td>165.000000</td>\n",
              "      <td>1.003690</td>\n",
              "      <td>4.010000</td>\n",
              "      <td>2.000000</td>\n",
              "      <td>14.900000</td>\n",
              "      <td>6.000000</td>\n",
              "      <td>0.0</td>\n",
              "    </tr>\n",
              "  </tbody>\n",
              "</table>\n",
              "</div>"
            ],
            "text/plain": [
              "       fixed acidity  volatile acidity  ...      quality  goodquality\n",
              "count    1382.000000       1382.000000  ...  1382.000000       1382.0\n",
              "mean        8.236831          0.547022  ...     5.408828          0.0\n",
              "std         1.682726          0.176337  ...     0.601719          0.0\n",
              "min         4.600000          0.160000  ...     3.000000          0.0\n",
              "25%         7.100000          0.420000  ...     5.000000          0.0\n",
              "50%         7.800000          0.540000  ...     5.000000          0.0\n",
              "75%         9.100000          0.650000  ...     6.000000          0.0\n",
              "max        15.900000          1.580000  ...     6.000000          0.0\n",
              "\n",
              "[8 rows x 13 columns]"
            ]
          },
          "metadata": {
            "tags": []
          },
          "execution_count": 20
        }
      ]
    }
  ]
}