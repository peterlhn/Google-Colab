{
  "nbformat": 4,
  "nbformat_minor": 0,
  "metadata": {
    "colab": {
      "name": "Matrix Practices.ipynb",
      "provenance": [],
      "authorship_tag": "ABX9TyOXDqwQpyIM7Mu7OY7GrqTG",
      "include_colab_link": true
    },
    "kernelspec": {
      "name": "python3",
      "display_name": "Python 3"
    },
    "language_info": {
      "name": "python"
    }
  },
  "cells": [
    {
      "cell_type": "markdown",
      "metadata": {
        "id": "view-in-github",
        "colab_type": "text"
      },
      "source": [
        "<a href=\"https://colab.research.google.com/github/peterlhn/Google-Colab/blob/master/Matrix_Practices.ipynb\" target=\"_parent\"><img src=\"https://colab.research.google.com/assets/colab-badge.svg\" alt=\"Open In Colab\"/></a>"
      ]
    },
    {
      "cell_type": "code",
      "metadata": {
        "id": "a3NCk3MuxvJL"
      },
      "source": [
        "import numpy as np\n",
        "from scipy.stats import norm\n",
        "import pandas as pd"
      ],
      "execution_count": 22,
      "outputs": []
    },
    {
      "cell_type": "markdown",
      "metadata": {
        "id": "D4AnvT1Pq2zG"
      },
      "source": [
        "**Create class \"CASE\" to detemine input**"
      ]
    },
    {
      "cell_type": "code",
      "metadata": {
        "id": "Euiukx2mt8W3"
      },
      "source": [
        "class single_case:\n",
        "  def __init__(self, id, mean, sd, pub_p, pub_v, retailer_p, retailer_s):\n",
        "    self.id = id\n",
        "    self.mean = mean\n",
        "    self.sd = sd\n",
        "    self.pub_p = pub_p\n",
        "    self.pub_v = pub_v\n",
        "    self. retailer_p = retailer_p\n",
        "    self.retailer_s = retailer_s\n",
        "  "
      ],
      "execution_count": 36,
      "outputs": []
    },
    {
      "cell_type": "markdown",
      "metadata": {
        "id": "x2jKFnOdq_oR"
      },
      "source": [
        "**Create method to calculate the outcome**"
      ]
    },
    {
      "cell_type": "code",
      "metadata": {
        "id": "WE0NRVnxMSMS"
      },
      "source": [
        "# Method - Find Revenue Sharing affecting Supply Chain Profit\n",
        "def best_revenue_share(case, f):\n",
        "    case_id = case.id\n",
        "    f = f\n",
        "\n",
        "    mean = case.mean\n",
        "    sd = case.sd\n",
        "\n",
        "    pub_p = case.pub_p\n",
        "    pub_v = case.pub_v\n",
        "    retailer_p = case.retailer_p\n",
        "    retailer_c = pub_p\n",
        "    retailer_s = case.retailer_s\n",
        "\n",
        "    # ------ Cost of Understocking / Overstocking ------- #\n",
        "    cu = (1-f)*retailer_p - retailer_c\n",
        "    co = retailer_c - retailer_s\n",
        "    # Critical Fractile = Cu/(Cu+Co)\n",
        "    cf = cu/(cu+co)\n",
        "    # Optimal Order Quantity (Q*) \n",
        "    Q = norm.ppf(cf, loc=mean, scale=sd)\n",
        "\n",
        "    # -------  Number of Under / Overstocking -------- # \n",
        "    num_diff = sd *  norm(loc = 0 , scale = 1).pdf((Q-mean)/sd)\n",
        "\n",
        "    # Understocking # \n",
        "    e_under = 1 - norm(loc = mean , scale = sd).cdf(Q)\n",
        "    num_under_ind = (mean - Q)*e_under \n",
        "    num_under_sum = num_diff + num_under_ind\n",
        "    \n",
        "    # Overstocking # \n",
        "    e_over = norm(loc = mean , scale = sd).cdf(Q)\n",
        "    num_over_ind =  (Q-mean)*e_over\n",
        "    num_over_sum = num_diff + num_over_ind\n",
        "\n",
        "    # Actual Sales #\n",
        "    act_sale = Q - num_over_sum\n",
        "\n",
        "    # ------- Retailer Profit ---------- #\n",
        "    sales_retailer = round((1-f)*retailer_p * act_sale,0)       # (1-f)*price * Actual Sales #\n",
        "    overstock_sales_retailer = round(num_over_sum * retailer_s,0)        # Overstock # X Salvage value\n",
        "    cost_retailer = round(retailer_c * Q,0)         # Optimal Order Quantity * Cost\n",
        "\n",
        "    profit_retailer = sales_retailer + overstock_sales_retailer - cost_retailer\n",
        "\n",
        "    # ------ Publisher Profit -------- #\n",
        "    sales_publisher = round(pub_p * Q,0)                           # price * Q\n",
        "    share_revenue_publisher = round(f * retailer_p * act_sale,0)   # f * p * act_sale\n",
        "    cost_publisher = round(pub_v * Q,0)                            # Optimal Order Quantity * Cost\n",
        "\n",
        "    profit_publisher = sales_publisher + share_revenue_publisher - cost_publisher      \n",
        "\n",
        "    # ------ Supplychain Profit -------- #\n",
        "    supply_chain_profit = profit_publisher + profit_retailer\n",
        "\n",
        "    return [case_id, f, cu, co, cf, Q, profit_retailer, act_sale,num_under_sum, num_over_sum, profit_publisher, supply_chain_profit]\n"
      ],
      "execution_count": 84,
      "outputs": []
    },
    {
      "cell_type": "code",
      "metadata": {
        "id": "R4qrM-ADyW46"
      },
      "source": [
        "def multi_cases(case,step):\n",
        "  case_ultra_low = single_case(case.id+\"_ultra_low\", case.mean, case.sd, case.pub_p*(1-2*step), case.pub_v, case.retailer_p, case.retailer_s)\n",
        "  case_low = single_case(case.id+\"_low\", case.mean, case.sd, case.pub_p*(1-step), case.pub_v, case.retailer_p, case.retailer_s)\n",
        "  case_high = single_case(case.id+\"_high\", case.mean, case.sd, case.pub_p*(1+step), case.pub_v, case.retailer_p, case.retailer_s)\n",
        "  case_ultra_high = single_case(case.id+\"_ultra_high\", case.mean, case.sd, case.pub_p*(1+2*step), case.pub_v, case.retailer_p, case.retailer_s)\n",
        "  return [case, case_ultra_low, case_low, case_high, case_ultra_high]\n"
      ],
      "execution_count": 82,
      "outputs": []
    },
    {
      "cell_type": "markdown",
      "metadata": {
        "id": "uCQkasovvQKJ"
      },
      "source": [
        "**Create FOUR case, assign to function**"
      ]
    },
    {
      "cell_type": "code",
      "metadata": {
        "colab": {
          "base_uri": "https://localhost:8080/"
        },
        "id": "t6xsb4FEahy_",
        "outputId": "ec00f806-5516-40eb-e8a8-1c630b1a62a2"
      },
      "source": [
        "# Create a cases \n",
        "case_org = single_case('Ben', 20000, 4000, 10, 1, 24, 3)\n",
        "cases_list = multi_cases(case_org,0.25)   # [case, case_ultra_low, case_low, case_high, case_ultra_high]\n",
        "# Assign these cases into calculation method\n",
        "for i in cases_list:\n",
        "  result = best_revenue_share(i,0.1)\n",
        "  print(result)\n"
      ],
      "execution_count": 89,
      "outputs": [
        {
          "output_type": "stream",
          "name": "stdout",
          "text": [
            "['Ben', 0.1, 11.600000000000001, 7, 0.6236559139784946, 21260.387126500955, 203756.0, 18955.85468192033, 1044.1453180796718, 2304.5324445806264, 236838.0, 440594.0]\n",
            "['Ben_ultra_low', 0.1, 16.6, 2.0, 0.8924731182795699, 24959.152588395344, 318237.0, 19793.298750712835, 206.70124928716393, 5165.853837682507, 147341.0, 465578.0]\n",
            "['Ben_low', 0.1, 14.100000000000001, 4.5, 0.7580645161290323, 22800.36085043027, 258769.0, 19428.56980036324, 571.4301996367611, 3371.7910500670296, 194832.0, 453601.0]\n",
            "['Ben_high', 0.1, 9.100000000000001, 9.5, 0.48924731182795705, 19892.174974296708, 152329.0, 18349.738626001184, 1650.2613739988162, 1542.4363482955239, 272799.0, 425128.0]\n",
            "['Ben_ultra_high', 0.1, 6.600000000000001, 12.0, 0.35483870967741943, 18510.842558139237, 104306.0, 17550.32564146596, 2449.674358534042, 960.5169166732784, 301273.0, 405579.0]\n"
          ]
        }
      ]
    },
    {
      "cell_type": "code",
      "metadata": {
        "id": "CYr15dG0xYBF"
      },
      "source": [
        "data = []\n",
        "for case in cases_list:\n",
        "  for i in range(0,100,5):\n",
        "    x = best_revenue_share(case, i/100) \n",
        "    data.append(x)\n"
      ],
      "execution_count": 90,
      "outputs": []
    },
    {
      "cell_type": "code",
      "metadata": {
        "id": "gR9D4Cra9KdW"
      },
      "source": [
        "df = pd.DataFrame(data, columns=['Case ID','Revenue Share','Cost of Understock','Cost of Overstock','Critical Fractile', 'Optimal Order Quantity', 'Actual Sales', 'Understock', 'Overstock', 'Retailers Profit', 'Publisher Profit', 'Supplychain Profit']).round(2)"
      ],
      "execution_count": 91,
      "outputs": []
    },
    {
      "cell_type": "code",
      "metadata": {
        "id": "BLgfo0AuHpOY",
        "colab": {
          "base_uri": "https://localhost:8080/",
          "height": 473
        },
        "outputId": "7cffe7af-22ed-4ef5-deeb-000717023739"
      },
      "source": [
        "df"
      ],
      "execution_count": 92,
      "outputs": [
        {
          "output_type": "execute_result",
          "data": {
            "text/html": [
              "<div>\n",
              "<style scoped>\n",
              "    .dataframe tbody tr th:only-of-type {\n",
              "        vertical-align: middle;\n",
              "    }\n",
              "\n",
              "    .dataframe tbody tr th {\n",
              "        vertical-align: top;\n",
              "    }\n",
              "\n",
              "    .dataframe thead th {\n",
              "        text-align: right;\n",
              "    }\n",
              "</style>\n",
              "<table border=\"1\" class=\"dataframe\">\n",
              "  <thead>\n",
              "    <tr style=\"text-align: right;\">\n",
              "      <th></th>\n",
              "      <th>Case ID</th>\n",
              "      <th>Revenue Share</th>\n",
              "      <th>Cost of Understock</th>\n",
              "      <th>Cost of Overstock</th>\n",
              "      <th>Critical Fractile</th>\n",
              "      <th>Optimal Order Quantity</th>\n",
              "      <th>Actual Sales</th>\n",
              "      <th>Understock</th>\n",
              "      <th>Overstock</th>\n",
              "      <th>Retailers Profit</th>\n",
              "      <th>Publisher Profit</th>\n",
              "      <th>Supplychain Profit</th>\n",
              "    </tr>\n",
              "  </thead>\n",
              "  <tbody>\n",
              "    <tr>\n",
              "      <th>0</th>\n",
              "      <td>Ben</td>\n",
              "      <td>0.00</td>\n",
              "      <td>14.0</td>\n",
              "      <td>7.0</td>\n",
              "      <td>0.67</td>\n",
              "      <td>21722.91</td>\n",
              "      <td>249458.0</td>\n",
              "      <td>19119.90</td>\n",
              "      <td>880.10</td>\n",
              "      <td>2603.01</td>\n",
              "      <td>195506.0</td>\n",
              "      <td>444964.0</td>\n",
              "    </tr>\n",
              "    <tr>\n",
              "      <th>1</th>\n",
              "      <td>Ben</td>\n",
              "      <td>0.05</td>\n",
              "      <td>12.8</td>\n",
              "      <td>7.0</td>\n",
              "      <td>0.65</td>\n",
              "      <td>21503.17</td>\n",
              "      <td>226557.0</td>\n",
              "      <td>19044.45</td>\n",
              "      <td>955.55</td>\n",
              "      <td>2458.73</td>\n",
              "      <td>216382.0</td>\n",
              "      <td>442939.0</td>\n",
              "    </tr>\n",
              "    <tr>\n",
              "      <th>2</th>\n",
              "      <td>Ben</td>\n",
              "      <td>0.10</td>\n",
              "      <td>11.6</td>\n",
              "      <td>7.0</td>\n",
              "      <td>0.62</td>\n",
              "      <td>21260.39</td>\n",
              "      <td>203756.0</td>\n",
              "      <td>18955.85</td>\n",
              "      <td>1044.15</td>\n",
              "      <td>2304.53</td>\n",
              "      <td>236838.0</td>\n",
              "      <td>440594.0</td>\n",
              "    </tr>\n",
              "    <tr>\n",
              "      <th>3</th>\n",
              "      <td>Ben</td>\n",
              "      <td>0.15</td>\n",
              "      <td>10.4</td>\n",
              "      <td>7.0</td>\n",
              "      <td>0.60</td>\n",
              "      <td>20989.61</td>\n",
              "      <td>181070.0</td>\n",
              "      <td>18850.44</td>\n",
              "      <td>1149.56</td>\n",
              "      <td>2139.16</td>\n",
              "      <td>256768.0</td>\n",
              "      <td>437838.0</td>\n",
              "    </tr>\n",
              "    <tr>\n",
              "      <th>4</th>\n",
              "      <td>Ben</td>\n",
              "      <td>0.20</td>\n",
              "      <td>9.2</td>\n",
              "      <td>7.0</td>\n",
              "      <td>0.57</td>\n",
              "      <td>20684.13</td>\n",
              "      <td>158524.0</td>\n",
              "      <td>18723.01</td>\n",
              "      <td>1276.99</td>\n",
              "      <td>1961.12</td>\n",
              "      <td>276027.0</td>\n",
              "      <td>434551.0</td>\n",
              "    </tr>\n",
              "    <tr>\n",
              "      <th>...</th>\n",
              "      <td>...</td>\n",
              "      <td>...</td>\n",
              "      <td>...</td>\n",
              "      <td>...</td>\n",
              "      <td>...</td>\n",
              "      <td>...</td>\n",
              "      <td>...</td>\n",
              "      <td>...</td>\n",
              "      <td>...</td>\n",
              "      <td>...</td>\n",
              "      <td>...</td>\n",
              "      <td>...</td>\n",
              "    </tr>\n",
              "    <tr>\n",
              "      <th>95</th>\n",
              "      <td>Ben_ultra_high</td>\n",
              "      <td>0.75</td>\n",
              "      <td>-9.0</td>\n",
              "      <td>12.0</td>\n",
              "      <td>-3.00</td>\n",
              "      <td>NaN</td>\n",
              "      <td>NaN</td>\n",
              "      <td>NaN</td>\n",
              "      <td>NaN</td>\n",
              "      <td>NaN</td>\n",
              "      <td>NaN</td>\n",
              "      <td>NaN</td>\n",
              "    </tr>\n",
              "    <tr>\n",
              "      <th>96</th>\n",
              "      <td>Ben_ultra_high</td>\n",
              "      <td>0.80</td>\n",
              "      <td>-10.2</td>\n",
              "      <td>12.0</td>\n",
              "      <td>-5.67</td>\n",
              "      <td>NaN</td>\n",
              "      <td>NaN</td>\n",
              "      <td>NaN</td>\n",
              "      <td>NaN</td>\n",
              "      <td>NaN</td>\n",
              "      <td>NaN</td>\n",
              "      <td>NaN</td>\n",
              "    </tr>\n",
              "    <tr>\n",
              "      <th>97</th>\n",
              "      <td>Ben_ultra_high</td>\n",
              "      <td>0.85</td>\n",
              "      <td>-11.4</td>\n",
              "      <td>12.0</td>\n",
              "      <td>-19.00</td>\n",
              "      <td>NaN</td>\n",
              "      <td>NaN</td>\n",
              "      <td>NaN</td>\n",
              "      <td>NaN</td>\n",
              "      <td>NaN</td>\n",
              "      <td>NaN</td>\n",
              "      <td>NaN</td>\n",
              "    </tr>\n",
              "    <tr>\n",
              "      <th>98</th>\n",
              "      <td>Ben_ultra_high</td>\n",
              "      <td>0.90</td>\n",
              "      <td>-12.6</td>\n",
              "      <td>12.0</td>\n",
              "      <td>21.00</td>\n",
              "      <td>NaN</td>\n",
              "      <td>NaN</td>\n",
              "      <td>NaN</td>\n",
              "      <td>NaN</td>\n",
              "      <td>NaN</td>\n",
              "      <td>NaN</td>\n",
              "      <td>NaN</td>\n",
              "    </tr>\n",
              "    <tr>\n",
              "      <th>99</th>\n",
              "      <td>Ben_ultra_high</td>\n",
              "      <td>0.95</td>\n",
              "      <td>-13.8</td>\n",
              "      <td>12.0</td>\n",
              "      <td>7.67</td>\n",
              "      <td>NaN</td>\n",
              "      <td>NaN</td>\n",
              "      <td>NaN</td>\n",
              "      <td>NaN</td>\n",
              "      <td>NaN</td>\n",
              "      <td>NaN</td>\n",
              "      <td>NaN</td>\n",
              "    </tr>\n",
              "  </tbody>\n",
              "</table>\n",
              "<p>100 rows × 12 columns</p>\n",
              "</div>"
            ],
            "text/plain": [
              "           Case ID  Revenue Share  ...  Publisher Profit  Supplychain Profit\n",
              "0              Ben           0.00  ...          195506.0            444964.0\n",
              "1              Ben           0.05  ...          216382.0            442939.0\n",
              "2              Ben           0.10  ...          236838.0            440594.0\n",
              "3              Ben           0.15  ...          256768.0            437838.0\n",
              "4              Ben           0.20  ...          276027.0            434551.0\n",
              "..             ...            ...  ...               ...                 ...\n",
              "95  Ben_ultra_high           0.75  ...               NaN                 NaN\n",
              "96  Ben_ultra_high           0.80  ...               NaN                 NaN\n",
              "97  Ben_ultra_high           0.85  ...               NaN                 NaN\n",
              "98  Ben_ultra_high           0.90  ...               NaN                 NaN\n",
              "99  Ben_ultra_high           0.95  ...               NaN                 NaN\n",
              "\n",
              "[100 rows x 12 columns]"
            ]
          },
          "metadata": {},
          "execution_count": 92
        }
      ]
    },
    {
      "cell_type": "code",
      "metadata": {
        "colab": {
          "base_uri": "https://localhost:8080/"
        },
        "id": "aHkiLEGd-K_Z",
        "outputId": "8a743dee-634e-4da1-d91a-c8880be2b97b"
      },
      "source": [
        "# Max \"Supplychain Profit\" row\n",
        "df.iloc[df['Supplychain Profit'].argmax()]"
      ],
      "execution_count": 94,
      "outputs": [
        {
          "output_type": "execute_result",
          "data": {
            "text/plain": [
              "Case ID                   Ben_ultra_low\n",
              "Revenue Share                         0\n",
              "Cost of Understock                   19\n",
              "Cost of Overstock                     2\n",
              "Critical Fractile                   0.9\n",
              "Optimal Order Quantity          25236.7\n",
              "Actual Sales                     365777\n",
              "Understock                      19821.4\n",
              "Overstock                        178.59\n",
              "Retailers Profit                5415.28\n",
              "Publisher Profit                 100946\n",
              "Supplychain Profit               466723\n",
              "Name: 20, dtype: object"
            ]
          },
          "metadata": {},
          "execution_count": 94
        }
      ]
    },
    {
      "cell_type": "code",
      "metadata": {
        "colab": {
          "base_uri": "https://localhost:8080/"
        },
        "id": "b592dazA-hRj",
        "outputId": "211a87a8-8507-4324-a055-414ae250a471"
      },
      "source": [
        "# Min \"Supplychain Profit\" row\n",
        "df.iloc[df['Supplychain Profit'].argmin()]"
      ],
      "execution_count": 95,
      "outputs": [
        {
          "output_type": "execute_result",
          "data": {
            "text/plain": [
              "Case ID                   Ben_ultra_high\n",
              "Revenue Share                       0.35\n",
              "Cost of Understock                   0.6\n",
              "Cost of Overstock                     12\n",
              "Critical Fractile                   0.05\n",
              "Optimal Order Quantity           13326.4\n",
              "Actual Sales                        7000\n",
              "Understock                       13247.5\n",
              "Overstock                        6752.54\n",
              "Retailers Profit                   78.98\n",
              "Publisher Profit                  297850\n",
              "Supplychain Profit                304850\n",
              "Name: 87, dtype: object"
            ]
          },
          "metadata": {},
          "execution_count": 95
        }
      ]
    },
    {
      "cell_type": "markdown",
      "metadata": {
        "id": "SfAZfdUWLeek"
      },
      "source": [
        "###**Single Calculation**"
      ]
    },
    {
      "cell_type": "code",
      "metadata": {
        "id": "cQZwJsjsqTQ-"
      },
      "source": [
        "import numpy as np"
      ],
      "execution_count": 29,
      "outputs": []
    },
    {
      "cell_type": "markdown",
      "metadata": {
        "id": "lQUKnhA9pS4R"
      },
      "source": [
        "**Model Inputs**"
      ]
    },
    {
      "cell_type": "code",
      "metadata": {
        "id": "d3CGtsywoFH1"
      },
      "source": [
        "mean = 20000\n",
        "sd = 4000\n",
        "\n",
        "# Publisher\n",
        "pub_p = 9.5\n",
        "pub_v = 1\n",
        "\n",
        "# Retailer\n",
        "f = 0.1      # # Revenue Sharing %\n",
        "retailer_p = 24\n",
        "retailer_c = pub_p\n",
        "retailer_s = 3"
      ],
      "execution_count": 30,
      "outputs": []
    },
    {
      "cell_type": "markdown",
      "metadata": {
        "id": "kIikCtnhG6pH"
      },
      "source": [
        "**Critical Numbers**"
      ]
    },
    {
      "cell_type": "code",
      "metadata": {
        "id": "Khyp_zrFobAd",
        "colab": {
          "base_uri": "https://localhost:8080/"
        },
        "outputId": "56777e2c-6dd7-452f-d3d8-bb5601f2a8b7"
      },
      "source": [
        "# Cost of Understocking, Cu = (1-f)*p - c\n",
        "cu = (1-f)*retailer_p - retailer_c\n",
        "# Cost of Overstocking, Co = c - s\n",
        "co = retailer_c - retailer_s\n",
        "\n",
        "# Critical Fractile = Cu/(Cu+Co)\n",
        "# Chance of successfuly meet the demand \n",
        "cf = cu/(cu+co)\n",
        "\n",
        "# Optimal Order Quantity (Q*) \n",
        "# NORM.INV in Excel -> loc = mean, scale = sd\n",
        "Q = norm.ppf(cf, loc=mean, scale=sd)\n",
        "\n",
        "\n",
        "print(f\"Cost of Understocking (Cu) is {round(cu,1)}\")\n",
        "print(f\"Cost of Overstocking (Co) is {round(co,1)}\")\n",
        "\n",
        "print(f\"Optimal Order Quantity is {round(Q,0)}, given Critical Fractile is {round(cf,10)}\")"
      ],
      "execution_count": 31,
      "outputs": [
        {
          "output_type": "stream",
          "name": "stdout",
          "text": [
            "Cost of Understocking (Cu) is 12.1\n",
            "Cost of Overstocking (Co) is 6.5\n",
            "Optimal Order Quantity is 21547.0, given Critical Fractile is 0.6505376344\n"
          ]
        }
      ]
    },
    {
      "cell_type": "markdown",
      "metadata": {
        "id": "uqQTLJ1zqAZC"
      },
      "source": [
        "**Expected Number of Over & Understock**"
      ]
    },
    {
      "cell_type": "code",
      "metadata": {
        "id": "HSVXBVgKp-4i",
        "colab": {
          "base_uri": "https://localhost:8080/"
        },
        "outputId": "df6d3334-575f-4421-ed89-8c5b4a119bba"
      },
      "source": [
        "# Probability that the demand will be under / over Optimal Order Quantity\n",
        "# cdf = cumulative distribution function.\n",
        "num_diff = sd *  norm(loc = 0 , scale = 1).pdf((Q-mean)/sd)\n",
        "\n",
        "# NORM.DIST(20000, 4000, 21547,1) = 0.65 =CF\n",
        "# pdf = Probability density function.\n",
        "# num_under = (mean-sd)*(1-NORM.DIST(Q*,mean,sd,1))\n",
        "e_under = 1 - norm(loc = mean , scale = sd).cdf(Q)\n",
        "num_under_ind = (mean - Q)*e_under \n",
        "num_under_sum = num_diff + num_under_ind\n",
        "print(f'Understock is {round(num_under_ind,0)} + {round(num_diff,0)} = {round(num_under_sum,0)}, given the standard index is {round(e_under,2)}')\n",
        "\n",
        "\n",
        "# num_under = (mean-sd)*(1-NORM.DIST(Q*,mean,sd,1))\n",
        "e_over = norm(loc = mean , scale = sd).cdf(Q)\n",
        "num_over_ind =  (Q-mean)*e_over\n",
        "num_over_sum = num_diff + num_over_ind\n",
        "\n",
        "print(f'Overstock is {round(num_over_ind,0)} + {round(num_diff,0)} = {round(num_over_sum,0)}, given the standard index is {round(e_over,2)}')\n",
        "\n",
        "# Actual Sales = Q* - Overstock\n",
        "act_sale = Q - num_over_sum\n",
        "print(f'Actual Sales at P is {round(act_sale,0)}')"
      ],
      "execution_count": 32,
      "outputs": [
        {
          "output_type": "stream",
          "name": "stdout",
          "text": [
            "Understock is -541.0 + 1481.0 = 940.0, given the standard index is 0.35\n",
            "Overstock is 1006.0 + 1481.0 = 2487.0, given the standard index is 0.65\n",
            "Actual Sales at P is 19060.0\n"
          ]
        }
      ]
    },
    {
      "cell_type": "markdown",
      "metadata": {
        "id": "LPwzFh-OE0Lg"
      },
      "source": [
        "**Revenue, Cost, and Profit**"
      ]
    },
    {
      "cell_type": "markdown",
      "metadata": {
        "id": "WN-CLm1QHTQc"
      },
      "source": [
        "**Retailer**"
      ]
    },
    {
      "cell_type": "code",
      "metadata": {
        "id": "GnUjGO67HRic",
        "colab": {
          "base_uri": "https://localhost:8080/"
        },
        "outputId": "95b7f68e-675d-4fa0-fa5e-92c3228a2766"
      },
      "source": [
        "# (1-f)*price * Actual Sales #\n",
        "sales_retailer = round((1-f)*retailer_p * act_sale,0)\n",
        "\n",
        "# Overstock # X Salvage value\n",
        "overstock_sales_retailer = round(num_over_sum * retailer_s,0)\n",
        "\n",
        "# Optimal Order Quantity * Cost\n",
        "cost_retailer = round(retailer_c * Q,0)\n",
        "\n",
        "# Profit = Sum of 3 above \n",
        "profit_retailer = sales_retailer + overstock_sales_retailer - cost_retailer\n",
        "\n",
        "print(f'{sales_retailer}, {overstock_sales_retailer}, {cost_retailer}')\n",
        "print(f'Retailers profit is {profit_retailer}')"
      ],
      "execution_count": 33,
      "outputs": [
        {
          "output_type": "stream",
          "name": "stdout",
          "text": [
            "411693.0, 7462.0, 204697.0\n",
            "Retailers profit is 214458.0\n"
          ]
        }
      ]
    },
    {
      "cell_type": "markdown",
      "metadata": {
        "id": "gxGb8g80Ju3R"
      },
      "source": [
        "**Manufacturer**"
      ]
    },
    {
      "cell_type": "code",
      "metadata": {
        "id": "2826b1ceJue8",
        "colab": {
          "base_uri": "https://localhost:8080/"
        },
        "outputId": "fdf7de9f-8e9d-42ca-944f-4e654555c61c"
      },
      "source": [
        "# price * Q\n",
        "sales_publisher = round(pub_p * Q,0)\n",
        "\n",
        "# Revenue Share = f * p * act_sale\n",
        "share_revenue_publisher = round(f * retailer_p * act_sale,0)\n",
        "\n",
        "# Optimal Order Quantity * Cost\n",
        "cost_publisher = round(pub_v * Q,0)\n",
        "\n",
        "# Profit = Sum of 3 above \n",
        "profit_publisher = sales_publisher + share_revenue_publisher - cost_publisher\n",
        "\n",
        "print(f'{sales_publisher}, {share_revenue_publisher}, {cost_publisher}')\n",
        "print(f'Retailers profit is {profit_publisher}')"
      ],
      "execution_count": 34,
      "outputs": [
        {
          "output_type": "stream",
          "name": "stdout",
          "text": [
            "204697.0, 45744.0, 21547.0\n",
            "Retailers profit is 228894.0\n"
          ]
        }
      ]
    },
    {
      "cell_type": "markdown",
      "metadata": {
        "id": "GfDiHSMPGu_z"
      },
      "source": [
        "###**Reference**"
      ]
    }
  ]
}