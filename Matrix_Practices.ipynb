{
  "nbformat": 4,
  "nbformat_minor": 0,
  "metadata": {
    "colab": {
      "name": "Matrix Practices.ipynb",
      "provenance": [],
      "authorship_tag": "ABX9TyPKMbEf1/q8sS7labbRqZ1o",
      "include_colab_link": true
    },
    "kernelspec": {
      "name": "python3",
      "display_name": "Python 3"
    },
    "language_info": {
      "name": "python"
    }
  },
  "cells": [
    {
      "cell_type": "markdown",
      "metadata": {
        "id": "view-in-github",
        "colab_type": "text"
      },
      "source": [
        "<a href=\"https://colab.research.google.com/github/peterlhn/Google-Colab/blob/master/Matrix_Practices.ipynb\" target=\"_parent\"><img src=\"https://colab.research.google.com/assets/colab-badge.svg\" alt=\"Open In Colab\"/></a>"
      ]
    },
    {
      "cell_type": "code",
      "metadata": {
        "id": "a3NCk3MuxvJL"
      },
      "source": [
        "import numpy as np\n",
        "from scipy.stats import norm\n",
        "import pandas as pd"
      ],
      "execution_count": null,
      "outputs": []
    },
    {
      "cell_type": "code",
      "metadata": {
        "id": "Euiukx2mt8W3"
      },
      "source": [
        "class case:\n",
        "  def __init__(self, id, mean, sd, pub_p, pub_v, retailer_p, retailer_s):\n",
        "    self.mean = mean\n",
        "    self.sd = sd\n",
        "    self.pub_p = pub_p\n",
        "    self.pub_v = pub_v\n",
        "    self. retailer_p = retailer_p\n",
        "    self.retailer_s = retailer_s\n",
        "  "
      ],
      "execution_count": null,
      "outputs": []
    },
    {
      "cell_type": "code",
      "metadata": {
        "colab": {
          "base_uri": "https://localhost:8080/"
        },
        "id": "t6xsb4FEahy_",
        "outputId": "aea4ee5f-d345-4ac8-8811-af47f9711afb"
      },
      "source": [
        "case_low = case(1, 20000, 4000, 5, 1, 24, 3)\n",
        "case_mid = case(2, 20000, 4000, 10, 1, 24, 3)\n",
        "case_high = case(3, 20000, 4000, 20, 1, 24, 3)\n",
        "\n",
        "list_case = ['case_low', 'case_mid', 'case_high']\n",
        "\n",
        "print(case_low.pub_p)\n",
        "\n",
        "for i in list_case:\n",
        "  print(i)\n"
      ],
      "execution_count": null,
      "outputs": [
        {
          "output_type": "stream",
          "name": "stdout",
          "text": [
            "5\n",
            "case_low\n",
            "case_mid\n",
            "case_high\n"
          ]
        }
      ]
    },
    {
      "cell_type": "code",
      "metadata": {
        "id": "CYr15dG0xYBF"
      },
      "source": [
        "data = []\n",
        "\n",
        "for i in range(0,100,5):\n",
        "  x = best_revenue_share(i/100) \n",
        "  data.append(x)\n"
      ],
      "execution_count": null,
      "outputs": []
    },
    {
      "cell_type": "code",
      "metadata": {
        "id": "gR9D4Cra9KdW"
      },
      "source": [
        "df = pd.DataFrame(data, columns=['Revenue Share','Cost of Understock','Cost of Overstock','Critical Fractile', 'Optimal Order Quantity', 'Actual Sales', 'Understock', 'Overstock', 'Retailers Profit', 'Publisher Profit', 'Supplychain Profit']).round(2)"
      ],
      "execution_count": null,
      "outputs": []
    },
    {
      "cell_type": "code",
      "metadata": {
        "colab": {
          "base_uri": "https://localhost:8080/",
          "height": 703
        },
        "id": "BLgfo0AuHpOY",
        "outputId": "d7d4e41b-b1da-49ca-c9cf-3a504458a6b3"
      },
      "source": [
        "df"
      ],
      "execution_count": null,
      "outputs": [
        {
          "output_type": "execute_result",
          "data": {
            "text/html": [
              "<div>\n",
              "<style scoped>\n",
              "    .dataframe tbody tr th:only-of-type {\n",
              "        vertical-align: middle;\n",
              "    }\n",
              "\n",
              "    .dataframe tbody tr th {\n",
              "        vertical-align: top;\n",
              "    }\n",
              "\n",
              "    .dataframe thead th {\n",
              "        text-align: right;\n",
              "    }\n",
              "</style>\n",
              "<table border=\"1\" class=\"dataframe\">\n",
              "  <thead>\n",
              "    <tr style=\"text-align: right;\">\n",
              "      <th></th>\n",
              "      <th>Revenue Share</th>\n",
              "      <th>Cost of Understock</th>\n",
              "      <th>Cost of Overstock</th>\n",
              "      <th>Critical Fractile</th>\n",
              "      <th>Optimal Order Quantity</th>\n",
              "      <th>Actual Sales</th>\n",
              "      <th>Understock</th>\n",
              "      <th>Overstock</th>\n",
              "      <th>Retailers Profit</th>\n",
              "      <th>Publisher Profit</th>\n",
              "      <th>Supplychain Profit</th>\n",
              "    </tr>\n",
              "  </thead>\n",
              "  <tbody>\n",
              "    <tr>\n",
              "      <th>0</th>\n",
              "      <td>0.00</td>\n",
              "      <td>14.5</td>\n",
              "      <td>6.5</td>\n",
              "      <td>0.69</td>\n",
              "      <td>21988.80</td>\n",
              "      <td>260384.0</td>\n",
              "      <td>19205.35</td>\n",
              "      <td>794.65</td>\n",
              "      <td>2783.45</td>\n",
              "      <td>186905.0</td>\n",
              "      <td>447289.0</td>\n",
              "    </tr>\n",
              "    <tr>\n",
              "      <th>1</th>\n",
              "      <td>0.05</td>\n",
              "      <td>13.3</td>\n",
              "      <td>6.5</td>\n",
              "      <td>0.67</td>\n",
              "      <td>21778.64</td>\n",
              "      <td>237378.0</td>\n",
              "      <td>19138.34</td>\n",
              "      <td>861.66</td>\n",
              "      <td>2640.30</td>\n",
              "      <td>208084.0</td>\n",
              "      <td>445462.0</td>\n",
              "    </tr>\n",
              "    <tr>\n",
              "      <th>2</th>\n",
              "      <td>0.10</td>\n",
              "      <td>12.1</td>\n",
              "      <td>6.5</td>\n",
              "      <td>0.65</td>\n",
              "      <td>21547.09</td>\n",
              "      <td>214458.0</td>\n",
              "      <td>19059.88</td>\n",
              "      <td>940.12</td>\n",
              "      <td>2487.21</td>\n",
              "      <td>228894.0</td>\n",
              "      <td>443352.0</td>\n",
              "    </tr>\n",
              "    <tr>\n",
              "      <th>3</th>\n",
              "      <td>0.15</td>\n",
              "      <td>10.9</td>\n",
              "      <td>6.5</td>\n",
              "      <td>0.63</td>\n",
              "      <td>21289.72</td>\n",
              "      <td>191641.0</td>\n",
              "      <td>18966.85</td>\n",
              "      <td>1033.15</td>\n",
              "      <td>2322.87</td>\n",
              "      <td>249243.0</td>\n",
              "      <td>440884.0</td>\n",
              "    </tr>\n",
              "    <tr>\n",
              "      <th>4</th>\n",
              "      <td>0.20</td>\n",
              "      <td>9.7</td>\n",
              "      <td>6.5</td>\n",
              "      <td>0.60</td>\n",
              "      <td>21000.61</td>\n",
              "      <td>168944.0</td>\n",
              "      <td>18854.87</td>\n",
              "      <td>1145.13</td>\n",
              "      <td>2145.74</td>\n",
              "      <td>269008.0</td>\n",
              "      <td>437952.0</td>\n",
              "    </tr>\n",
              "    <tr>\n",
              "      <th>5</th>\n",
              "      <td>0.25</td>\n",
              "      <td>8.5</td>\n",
              "      <td>6.5</td>\n",
              "      <td>0.57</td>\n",
              "      <td>20671.58</td>\n",
              "      <td>146398.0</td>\n",
              "      <td>18717.58</td>\n",
              "      <td>1282.42</td>\n",
              "      <td>1954.00</td>\n",
              "      <td>288013.0</td>\n",
              "      <td>434411.0</td>\n",
              "    </tr>\n",
              "    <tr>\n",
              "      <th>6</th>\n",
              "      <td>0.30</td>\n",
              "      <td>7.3</td>\n",
              "      <td>6.5</td>\n",
              "      <td>0.53</td>\n",
              "      <td>20290.88</td>\n",
              "      <td>124037.0</td>\n",
              "      <td>18545.45</td>\n",
              "      <td>1454.55</td>\n",
              "      <td>1745.43</td>\n",
              "      <td>305999.0</td>\n",
              "      <td>430036.0</td>\n",
              "    </tr>\n",
              "    <tr>\n",
              "      <th>7</th>\n",
              "      <td>0.35</td>\n",
              "      <td>6.1</td>\n",
              "      <td>6.5</td>\n",
              "      <td>0.48</td>\n",
              "      <td>19840.81</td>\n",
              "      <td>101909.0</td>\n",
              "      <td>18323.37</td>\n",
              "      <td>1676.63</td>\n",
              "      <td>1517.44</td>\n",
              "      <td>322563.0</td>\n",
              "      <td>424472.0</td>\n",
              "    </tr>\n",
              "    <tr>\n",
              "      <th>8</th>\n",
              "      <td>0.40</td>\n",
              "      <td>4.9</td>\n",
              "      <td>6.5</td>\n",
              "      <td>0.43</td>\n",
              "      <td>19292.72</td>\n",
              "      <td>80090.0</td>\n",
              "      <td>18025.71</td>\n",
              "      <td>1974.29</td>\n",
              "      <td>1267.01</td>\n",
              "      <td>337035.0</td>\n",
              "      <td>417125.0</td>\n",
              "    </tr>\n",
              "    <tr>\n",
              "      <th>9</th>\n",
              "      <td>0.45</td>\n",
              "      <td>3.7</td>\n",
              "      <td>6.5</td>\n",
              "      <td>0.36</td>\n",
              "      <td>18595.48</td>\n",
              "      <td>58697.0</td>\n",
              "      <td>17604.59</td>\n",
              "      <td>2395.41</td>\n",
              "      <td>990.88</td>\n",
              "      <td>348192.0</td>\n",
              "      <td>406889.0</td>\n",
              "    </tr>\n",
              "    <tr>\n",
              "      <th>10</th>\n",
              "      <td>0.50</td>\n",
              "      <td>2.5</td>\n",
              "      <td>6.5</td>\n",
              "      <td>0.28</td>\n",
              "      <td>17642.18</td>\n",
              "      <td>37928.0</td>\n",
              "      <td>16955.84</td>\n",
              "      <td>3044.16</td>\n",
              "      <td>686.33</td>\n",
              "      <td>353429.0</td>\n",
              "      <td>391357.0</td>\n",
              "    </tr>\n",
              "    <tr>\n",
              "      <th>11</th>\n",
              "      <td>0.55</td>\n",
              "      <td>1.3</td>\n",
              "      <td>6.5</td>\n",
              "      <td>0.17</td>\n",
              "      <td>16130.31</td>\n",
              "      <td>18204.0</td>\n",
              "      <td>15775.86</td>\n",
              "      <td>4224.14</td>\n",
              "      <td>354.46</td>\n",
              "      <td>345349.0</td>\n",
              "      <td>363553.0</td>\n",
              "    </tr>\n",
              "    <tr>\n",
              "      <th>12</th>\n",
              "      <td>0.60</td>\n",
              "      <td>0.1</td>\n",
              "      <td>6.5</td>\n",
              "      <td>0.02</td>\n",
              "      <td>11335.57</td>\n",
              "      <td>992.0</td>\n",
              "      <td>11314.06</td>\n",
              "      <td>8685.94</td>\n",
              "      <td>21.52</td>\n",
              "      <td>259274.0</td>\n",
              "      <td>260266.0</td>\n",
              "    </tr>\n",
              "    <tr>\n",
              "      <th>13</th>\n",
              "      <td>0.65</td>\n",
              "      <td>-1.1</td>\n",
              "      <td>6.5</td>\n",
              "      <td>-0.20</td>\n",
              "      <td>NaN</td>\n",
              "      <td>NaN</td>\n",
              "      <td>NaN</td>\n",
              "      <td>NaN</td>\n",
              "      <td>NaN</td>\n",
              "      <td>NaN</td>\n",
              "      <td>NaN</td>\n",
              "    </tr>\n",
              "    <tr>\n",
              "      <th>14</th>\n",
              "      <td>0.70</td>\n",
              "      <td>-2.3</td>\n",
              "      <td>6.5</td>\n",
              "      <td>-0.55</td>\n",
              "      <td>NaN</td>\n",
              "      <td>NaN</td>\n",
              "      <td>NaN</td>\n",
              "      <td>NaN</td>\n",
              "      <td>NaN</td>\n",
              "      <td>NaN</td>\n",
              "      <td>NaN</td>\n",
              "    </tr>\n",
              "    <tr>\n",
              "      <th>15</th>\n",
              "      <td>0.75</td>\n",
              "      <td>-3.5</td>\n",
              "      <td>6.5</td>\n",
              "      <td>-1.17</td>\n",
              "      <td>NaN</td>\n",
              "      <td>NaN</td>\n",
              "      <td>NaN</td>\n",
              "      <td>NaN</td>\n",
              "      <td>NaN</td>\n",
              "      <td>NaN</td>\n",
              "      <td>NaN</td>\n",
              "    </tr>\n",
              "    <tr>\n",
              "      <th>16</th>\n",
              "      <td>0.80</td>\n",
              "      <td>-4.7</td>\n",
              "      <td>6.5</td>\n",
              "      <td>-2.61</td>\n",
              "      <td>NaN</td>\n",
              "      <td>NaN</td>\n",
              "      <td>NaN</td>\n",
              "      <td>NaN</td>\n",
              "      <td>NaN</td>\n",
              "      <td>NaN</td>\n",
              "      <td>NaN</td>\n",
              "    </tr>\n",
              "    <tr>\n",
              "      <th>17</th>\n",
              "      <td>0.85</td>\n",
              "      <td>-5.9</td>\n",
              "      <td>6.5</td>\n",
              "      <td>-9.83</td>\n",
              "      <td>NaN</td>\n",
              "      <td>NaN</td>\n",
              "      <td>NaN</td>\n",
              "      <td>NaN</td>\n",
              "      <td>NaN</td>\n",
              "      <td>NaN</td>\n",
              "      <td>NaN</td>\n",
              "    </tr>\n",
              "    <tr>\n",
              "      <th>18</th>\n",
              "      <td>0.90</td>\n",
              "      <td>-7.1</td>\n",
              "      <td>6.5</td>\n",
              "      <td>11.83</td>\n",
              "      <td>NaN</td>\n",
              "      <td>NaN</td>\n",
              "      <td>NaN</td>\n",
              "      <td>NaN</td>\n",
              "      <td>NaN</td>\n",
              "      <td>NaN</td>\n",
              "      <td>NaN</td>\n",
              "    </tr>\n",
              "    <tr>\n",
              "      <th>19</th>\n",
              "      <td>0.95</td>\n",
              "      <td>-8.3</td>\n",
              "      <td>6.5</td>\n",
              "      <td>4.61</td>\n",
              "      <td>NaN</td>\n",
              "      <td>NaN</td>\n",
              "      <td>NaN</td>\n",
              "      <td>NaN</td>\n",
              "      <td>NaN</td>\n",
              "      <td>NaN</td>\n",
              "      <td>NaN</td>\n",
              "    </tr>\n",
              "  </tbody>\n",
              "</table>\n",
              "</div>"
            ],
            "text/plain": [
              "    Revenue Share  Cost of Understock  ...  Publisher Profit  Supplychain Profit\n",
              "0            0.00                14.5  ...          186905.0            447289.0\n",
              "1            0.05                13.3  ...          208084.0            445462.0\n",
              "2            0.10                12.1  ...          228894.0            443352.0\n",
              "3            0.15                10.9  ...          249243.0            440884.0\n",
              "4            0.20                 9.7  ...          269008.0            437952.0\n",
              "5            0.25                 8.5  ...          288013.0            434411.0\n",
              "6            0.30                 7.3  ...          305999.0            430036.0\n",
              "7            0.35                 6.1  ...          322563.0            424472.0\n",
              "8            0.40                 4.9  ...          337035.0            417125.0\n",
              "9            0.45                 3.7  ...          348192.0            406889.0\n",
              "10           0.50                 2.5  ...          353429.0            391357.0\n",
              "11           0.55                 1.3  ...          345349.0            363553.0\n",
              "12           0.60                 0.1  ...          259274.0            260266.0\n",
              "13           0.65                -1.1  ...               NaN                 NaN\n",
              "14           0.70                -2.3  ...               NaN                 NaN\n",
              "15           0.75                -3.5  ...               NaN                 NaN\n",
              "16           0.80                -4.7  ...               NaN                 NaN\n",
              "17           0.85                -5.9  ...               NaN                 NaN\n",
              "18           0.90                -7.1  ...               NaN                 NaN\n",
              "19           0.95                -8.3  ...               NaN                 NaN\n",
              "\n",
              "[20 rows x 11 columns]"
            ]
          },
          "metadata": {},
          "execution_count": 97
        }
      ]
    },
    {
      "cell_type": "code",
      "metadata": {
        "id": "WE0NRVnxMSMS"
      },
      "source": [
        "# Method - Find Revenue Sharing affecting Supply Chain Profit\n",
        "def best_revenue_share(f):\n",
        "    mean = 20000\n",
        "    sd = 4000\n",
        "    f = f\n",
        "\n",
        "    pub_p = 9.5\n",
        "    pub_v = 1\n",
        "    retailer_p = 24\n",
        "    retailer_c = pub_p\n",
        "    retailer_s = 3\n",
        "\n",
        "    # ------ Cost of Understocking / Overstocking ------- #\n",
        "    cu = (1-f)*retailer_p - retailer_c\n",
        "    co = retailer_c - retailer_s\n",
        "    # Critical Fractile = Cu/(Cu+Co)\n",
        "    cf = cu/(cu+co)\n",
        "    # Optimal Order Quantity (Q*) \n",
        "    Q = norm.ppf(cf, loc=mean, scale=sd)\n",
        "\n",
        "    # -------  Number of Under / Overstocking -------- # \n",
        "    num_diff = sd *  norm(loc = 0 , scale = 1).pdf((Q-mean)/sd)\n",
        "\n",
        "    # Understocking # \n",
        "    e_under = 1 - norm(loc = mean , scale = sd).cdf(Q)\n",
        "    num_under_ind = (mean - Q)*e_under \n",
        "    num_under_sum = num_diff + num_under_ind\n",
        "    \n",
        "    # Overstocking # \n",
        "    e_over = norm(loc = mean , scale = sd).cdf(Q)\n",
        "    num_over_ind =  (Q-mean)*e_over\n",
        "    num_over_sum = num_diff + num_over_ind\n",
        "\n",
        "    # Actual Sales #\n",
        "    act_sale = Q - num_over_sum\n",
        "\n",
        "    # ------- Retailer Profit ---------- #\n",
        "    # (1-f)*price * Actual Sales #\n",
        "    sales_retailer = round((1-f)*retailer_p * act_sale,0)\n",
        "\n",
        "    # Overstock # X Salvage value\n",
        "    overstock_sales_retailer = round(num_over_sum * retailer_s,0)\n",
        "\n",
        "    # Optimal Order Quantity * Cost\n",
        "    cost_retailer = round(retailer_c * Q,0)\n",
        "\n",
        "    # Profit = Sum of 3 above \n",
        "    profit_retailer = sales_retailer + overstock_sales_retailer - cost_retailer\n",
        "\n",
        "    # ------ Publisher Profit -------- #\n",
        "    # price * Q\n",
        "    sales_publisher = round(pub_p * Q,0)\n",
        "\n",
        "    # Revenue Share = f * p * act_sale\n",
        "    share_revenue_publisher = round(f * retailer_p * act_sale,0)\n",
        "\n",
        "    # Optimal Order Quantity * Cost\n",
        "    cost_publisher = round(pub_v * Q,0)\n",
        "\n",
        "    # Profit = Sum of 3 above \n",
        "    profit_publisher = sales_publisher + share_revenue_publisher - cost_publisher\n",
        "\n",
        "    # ------ Supplychain Profit -------- #\n",
        "    supply_chain_profit = profit_publisher + profit_retailer\n",
        "\n",
        "    return [f, cu, co, cf, Q, profit_retailer, act_sale,num_under_sum, num_over_sum, profit_publisher, supply_chain_profit]\n"
      ],
      "execution_count": null,
      "outputs": []
    },
    {
      "cell_type": "code",
      "metadata": {
        "colab": {
          "base_uri": "https://localhost:8080/"
        },
        "id": "rpEH4ihLOWb6",
        "outputId": "49745211-5cd5-479d-f108-dd129d1f23a0"
      },
      "source": [
        "r,p,s = best_revenue_share(0.1)\n",
        "print(f'{r}, {p}, {s}')"
      ],
      "execution_count": null,
      "outputs": [
        {
          "output_type": "stream",
          "name": "stdout",
          "text": [
            "Cost of Understocking (Cu) is 12.1\n",
            "Cost of Overstocking (Co) is 6.5\n",
            "Optimal Order Quantity is 21547.0, given Critical Fractile is 0.6505376344\n",
            "Understock is -541.0 + 1481.0 = 940.0, given the standard index is 0.35\n",
            "Overstock is 1006.0 + 1481.0 = 2487.0, given the standard index is 0.65\n",
            "Actual Sales at P is 19060.0\n",
            "411693.0, 7462.0, 204697.0\n",
            "Retailers profit is 214458.0\n",
            "204697.0, 45744.0, 21547.0\n",
            "Retailers profit is 228894.0\n",
            "Supply Chain Profit is 443352.0\n",
            "214458.0, 228894.0, 443352.0\n"
          ]
        }
      ]
    },
    {
      "cell_type": "markdown",
      "metadata": {
        "id": "SfAZfdUWLeek"
      },
      "source": [
        "###**Single Calculation**"
      ]
    },
    {
      "cell_type": "code",
      "metadata": {
        "id": "cQZwJsjsqTQ-"
      },
      "source": [
        "import numpy as np"
      ],
      "execution_count": null,
      "outputs": []
    },
    {
      "cell_type": "markdown",
      "metadata": {
        "id": "lQUKnhA9pS4R"
      },
      "source": [
        "**Model Inputs**"
      ]
    },
    {
      "cell_type": "code",
      "metadata": {
        "id": "d3CGtsywoFH1"
      },
      "source": [
        "mean = 20000\n",
        "sd = 4000\n",
        "\n",
        "# Publisher\n",
        "pub_p = 9.5\n",
        "pub_v = 1\n",
        "\n",
        "# Retailer\n",
        "f = 0.1      # # Revenue Sharing %\n",
        "retailer_p = 24\n",
        "retailer_c = pub_p\n",
        "retailer_s = 3"
      ],
      "execution_count": null,
      "outputs": []
    },
    {
      "cell_type": "markdown",
      "metadata": {
        "id": "kIikCtnhG6pH"
      },
      "source": [
        "**Critical Numbers**"
      ]
    },
    {
      "cell_type": "code",
      "metadata": {
        "colab": {
          "base_uri": "https://localhost:8080/"
        },
        "id": "Khyp_zrFobAd",
        "outputId": "6a1cf58c-290b-47f0-87c3-824b5b0c962e"
      },
      "source": [
        "# Cost of Understocking, Cu = (1-f)*p - c\n",
        "cu = (1-f)*retailer_p - retailer_c\n",
        "# Cost of Overstocking, Co = c - s\n",
        "co = retailer_c - retailer_s\n",
        "\n",
        "# Critical Fractile = Cu/(Cu+Co)\n",
        "# Chance of successfuly meet the demand \n",
        "cf = cu/(cu+co)\n",
        "\n",
        "# Optimal Order Quantity (Q*) \n",
        "# NORM.INV in Excel -> loc = mean, scale = sd\n",
        "Q = norm.ppf(cf, loc=mean, scale=sd)\n",
        "\n",
        "\n",
        "print(f\"Cost of Understocking (Cu) is {round(cu,1)}\")\n",
        "print(f\"Cost of Overstocking (Co) is {round(co,1)}\")\n",
        "\n",
        "print(f\"Optimal Order Quantity is {round(Q,0)}, given Critical Fractile is {round(cf,10)}\")"
      ],
      "execution_count": null,
      "outputs": [
        {
          "output_type": "stream",
          "name": "stdout",
          "text": [
            "Cost of Understocking (Cu) is 12.1\n",
            "Cost of Overstocking (Co) is 6.5\n",
            "Optimal Order Quantity is 21547.0, given Critical Fractile is 0.6505376344\n"
          ]
        }
      ]
    },
    {
      "cell_type": "markdown",
      "metadata": {
        "id": "uqQTLJ1zqAZC"
      },
      "source": [
        "**Expected Number of Over & Understock**"
      ]
    },
    {
      "cell_type": "code",
      "metadata": {
        "colab": {
          "base_uri": "https://localhost:8080/"
        },
        "id": "HSVXBVgKp-4i",
        "outputId": "0b44f93f-77cf-444f-fb16-446886957e50"
      },
      "source": [
        "# Probability that the demand will be under / over Optimal Order Quantity\n",
        "# cdf = cumulative distribution function.\n",
        "num_diff = sd *  norm(loc = 0 , scale = 1).pdf((Q-mean)/sd)\n",
        "\n",
        "# NORM.DIST(20000, 4000, 21547,1) = 0.65 =CF\n",
        "# pdf = Probability density function.\n",
        "# num_under = (mean-sd)*(1-NORM.DIST(Q*,mean,sd,1))\n",
        "e_under = 1 - norm(loc = mean , scale = sd).cdf(Q)\n",
        "num_under_ind = (mean - Q)*e_under \n",
        "num_under_sum = num_diff + num_under_ind\n",
        "print(f'Understock is {round(num_under_ind,0)} + {round(num_diff,0)} = {round(num_under_sum,0)}, given the standard index is {round(e_under,2)}')\n",
        "\n",
        "\n",
        "# num_under = (mean-sd)*(1-NORM.DIST(Q*,mean,sd,1))\n",
        "e_over = norm(loc = mean , scale = sd).cdf(Q)\n",
        "num_over_ind =  (Q-mean)*e_over\n",
        "num_over_sum = num_diff + num_over_ind\n",
        "\n",
        "print(f'Overstock is {round(num_over_ind,0)} + {round(num_diff,0)} = {round(num_over_sum,0)}, given the standard index is {round(e_over,2)}')\n",
        "\n",
        "# Actual Sales = Q* - Overstock\n",
        "act_sale = Q - num_over_sum\n",
        "print(f'Actual Sales at P is {round(act_sale,0)}')"
      ],
      "execution_count": null,
      "outputs": [
        {
          "output_type": "stream",
          "name": "stdout",
          "text": [
            "Understock is -541.0 + 1481.0 = 940.0, given the standard index is 0.35\n",
            "Overstock is 1006.0 + 1481.0 = 2487.0, given the standard index is 0.65\n",
            "Actual Sales at P is 19060.0\n"
          ]
        }
      ]
    },
    {
      "cell_type": "markdown",
      "metadata": {
        "id": "LPwzFh-OE0Lg"
      },
      "source": [
        "**Revenue, Cost, and Profit**"
      ]
    },
    {
      "cell_type": "markdown",
      "metadata": {
        "id": "WN-CLm1QHTQc"
      },
      "source": [
        "**Retailer**"
      ]
    },
    {
      "cell_type": "code",
      "metadata": {
        "colab": {
          "base_uri": "https://localhost:8080/"
        },
        "id": "GnUjGO67HRic",
        "outputId": "1a183690-395d-41ab-f395-953b963b889c"
      },
      "source": [
        "# (1-f)*price * Actual Sales #\n",
        "sales_retailer = round((1-f)*retailer_p * act_sale,0)\n",
        "\n",
        "# Overstock # X Salvage value\n",
        "overstock_sales_retailer = round(num_over_sum * retailer_s,0)\n",
        "\n",
        "# Optimal Order Quantity * Cost\n",
        "cost_retailer = round(retailer_c * Q,0)\n",
        "\n",
        "# Profit = Sum of 3 above \n",
        "profit_retailer = sales_retailer + overstock_sales_retailer - cost_retailer\n",
        "\n",
        "print(f'{sales_retailer}, {overstock_sales_retailer}, {cost_retailer}')\n",
        "print(f'Retailers profit is {profit_retailer}')"
      ],
      "execution_count": null,
      "outputs": [
        {
          "output_type": "stream",
          "name": "stdout",
          "text": [
            "411693.0, 7462.0, 204697.0\n",
            "Retailers profit is 214458.0\n"
          ]
        }
      ]
    },
    {
      "cell_type": "markdown",
      "metadata": {
        "id": "gxGb8g80Ju3R"
      },
      "source": [
        "**Manufacturer**"
      ]
    },
    {
      "cell_type": "code",
      "metadata": {
        "colab": {
          "base_uri": "https://localhost:8080/"
        },
        "id": "2826b1ceJue8",
        "outputId": "ea297bf0-9594-4b84-af47-0e37abc87970"
      },
      "source": [
        "# price * Q\n",
        "sales_publisher = round(pub_p * Q,0)\n",
        "\n",
        "# Revenue Share = f * p * act_sale\n",
        "share_revenue_publisher = round(f * retailer_p * act_sale,0)\n",
        "\n",
        "# Optimal Order Quantity * Cost\n",
        "cost_publisher = round(pub_v * Q,0)\n",
        "\n",
        "# Profit = Sum of 3 above \n",
        "profit_publisher = sales_publisher + share_revenue_publisher - cost_publisher\n",
        "\n",
        "print(f'{sales_publisher}, {share_revenue_publisher}, {cost_publisher}')\n",
        "print(f'Retailers profit is {profit_publisher}')"
      ],
      "execution_count": null,
      "outputs": [
        {
          "output_type": "stream",
          "name": "stdout",
          "text": [
            "204697.0, 45744.0, 21547.0\n",
            "Retailers profit is 228894.0\n"
          ]
        }
      ]
    },
    {
      "cell_type": "markdown",
      "metadata": {
        "id": "GfDiHSMPGu_z"
      },
      "source": [
        "###**Reference**"
      ]
    }
  ]
}